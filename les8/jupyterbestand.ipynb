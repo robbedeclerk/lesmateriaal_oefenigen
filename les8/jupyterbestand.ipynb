{
 "cells": [
  {
   "cell_type": "code",
   "execution_count": 16,
   "metadata": {},
   "outputs": [
    {
     "name": "stdout",
     "output_type": "stream",
     "text": [
      "14\n",
      "()\n"
     ]
    }
   ],
   "source": [
    "def fenc1(a, b, *c):\n",
    "    a=5\n",
    "    b=9\n",
    "    print(a+b)\n",
    "    print(c)\n",
    "\n",
    "\n",
    "fenc1('a', 'b',)\n",
    "\n",
    "\n"
   ]
  },
  {
   "cell_type": "code",
   "execution_count": 18,
   "metadata": {},
   "outputs": [
    {
     "name": "stdout",
     "output_type": "stream",
     "text": [
      "14\n",
      "('jfnhgqhro',)\n"
     ]
    }
   ],
   "source": [
    "def fenc1(a, b, *c):\n",
    "    print(a+b)\n",
    "    print(c)\n",
    "\n",
    "\n",
    "\n",
    "def optellen():\n",
    "    a=int(input(\"geef een getal\\n\"))\n",
    "    b=int(input(\"geef een getal\\n\"))\n",
    "    c= input('geef iets\\n')\n",
    "    return a,b,c \n",
    "\n",
    "d,e,f = optellen()\n",
    "\n",
    "fenc1(d,e,f)"
   ]
  },
  {
   "cell_type": "code",
   "execution_count": 20,
   "metadata": {},
   "outputs": [
    {
     "name": "stdout",
     "output_type": "stream",
     "text": [
      "1\n",
      "2\n",
      "3\n"
     ]
    }
   ],
   "source": [
    "tup = (1,2,3)\n",
    "a = 1\n",
    "b = 2\n",
    "c = 3\n",
    "\n",
    "print (a)\n",
    "print (b)\n",
    "print (c)"
   ]
  },
  {
   "cell_type": "code",
   "execution_count": 21,
   "metadata": {},
   "outputs": [
    {
     "name": "stdout",
     "output_type": "stream",
     "text": [
      "1\n",
      "(2, 3, 4)\n",
      "5\n"
     ]
    }
   ],
   "source": [
    "lis = [1,2,3,4,5]\n",
    "first = 1\n",
    "middle = 2,3,4\n",
    "last = 5\n",
    "\n",
    "print(first)\n",
    "print(middle)\n",
    "print(last)\n",
    "\n",
    "first,_,middle,_,last= [1,2,3,4,5]\n"
   ]
  },
  {
   "cell_type": "code",
   "execution_count": 43,
   "metadata": {},
   "outputs": [
    {
     "name": "stdout",
     "output_type": "stream",
     "text": [
      "1\n",
      "2 3 4 5\n"
     ]
    }
   ],
   "source": [
    "lis = [1,2,3,4,5]\n",
    "first , *remaining = lis\n",
    "\n",
    "\n",
    "print (first)\n",
    "print (*remaining)\n"
   ]
  },
  {
   "cell_type": "code",
   "execution_count": 42,
   "metadata": {},
   "outputs": [
    {
     "name": "stdout",
     "output_type": "stream",
     "text": [
      "1\n",
      "2 3 4\n",
      "5\n"
     ]
    }
   ],
   "source": [
    "lis = [1,2,3,4,5]\n",
    "first, *middle , last = lis\n",
    "\n",
    "print (first)\n",
    "print (*middle)\n",
    "print (last)"
   ]
  },
  {
   "cell_type": "code",
   "execution_count": 44,
   "metadata": {},
   "outputs": [
    {
     "name": "stdout",
     "output_type": "stream",
     "text": [
      "1\n",
      "2\n",
      "3 4 5\n"
     ]
    }
   ],
   "source": [
    "lis = [1,2,[3,4,5]]\n",
    "a,b,[*c] = lis\n",
    "print (a)\n",
    "print (b)\n",
    "print (*c)"
   ]
  },
  {
   "cell_type": "code",
   "execution_count": 45,
   "metadata": {},
   "outputs": [
    {
     "name": "stdout",
     "output_type": "stream",
     "text": [
      "h\n",
      "e l l o\n"
     ]
    }
   ],
   "source": [
    "tekst = ('hello')\n",
    "\n",
    "first , *rest = tekst\n",
    "\n",
    "print (first)\n",
    "print (*rest)"
   ]
  },
  {
   "cell_type": "code",
   "execution_count": 101,
   "metadata": {},
   "outputs": [
    {
     "name": "stdout",
     "output_type": "stream",
     "text": [
      "1 2 (3, 4) {'key1': 'value1', 'key2': 'value2'}\n"
     ]
    }
   ],
   "source": [
    "def func(a,b,*arg,**kwargs):\n",
    "    print(a,b,arg,kwargs)\n",
    "\n",
    "\n",
    "func(1, 2, 3, 4, key1=\"value1\", key2=\"value2\")\n"
   ]
  },
  {
   "cell_type": "code",
   "execution_count": 94,
   "metadata": {},
   "outputs": [
    {
     "name": "stdout",
     "output_type": "stream",
     "text": [
      "1 [2, 3, 4, 5] 6\n"
     ]
    }
   ],
   "source": [
    "first,*middle_values,last=(1,2,3,4,5,6)\n",
    "print(first,middle_values,last)\n"
   ]
  },
  {
   "cell_type": "code",
   "execution_count": 102,
   "metadata": {},
   "outputs": [
    {
     "name": "stdout",
     "output_type": "stream",
     "text": [
      "{'a': 1, 'b': 2, 'c': 3, 'd': 4, 'e': 5, 'f': 6}\n"
     ]
    }
   ],
   "source": [
    "dict1= {\"a\":1, \"b\": 2, \"c\":3, \"d\":4}\n",
    "dict2={\"e\":5, \"f\": 6}\n",
    "merged_dict={**dict1,**dict2}\n",
    "print(merged_dict)"
   ]
  },
  {
   "cell_type": "code",
   "execution_count": 139,
   "metadata": {},
   "outputs": [
    {
     "name": "stdout",
     "output_type": "stream",
     "text": [
      "250\n",
      "250\n",
      "250\n",
      "250\n",
      "250\n",
      "-0.00033029995393007994\n"
     ]
    }
   ],
   "source": [
    "\n",
    "from time import perf_counter\n",
    "def time_it(fn,*args,rep,**kwargs):\n",
    "    start= perf_counter()\n",
    "    for i in range(rep):\n",
    "        fn(*args,**kwargs)\n",
    "    stop=perf_counter()\n",
    "    print(start-stop)\n",
    "\n",
    "\n",
    "def machten(a):\n",
    "    a=5\n",
    "    i=a*50\n",
    "    print(i)\n",
    "\n",
    "\n",
    "fn= machten\n",
    "\n",
    "time_it(fn,5,rep=5)"
   ]
  },
  {
   "cell_type": "code",
   "execution_count": 150,
   "metadata": {},
   "outputs": [
    {
     "name": "stdout",
     "output_type": "stream",
     "text": [
      "2023-10-23 11:26:55.991808\n"
     ]
    }
   ],
   "source": [
    "from datetime import datetime\n",
    "\n",
    "print(datetime.utcnow())\n",
    "\n"
   ]
  },
  {
   "cell_type": "code",
   "execution_count": 19,
   "metadata": {},
   "outputs": [
    {
     "name": "stdout",
     "output_type": "stream",
     "text": [
      "[]\n",
      "oke ik stop\n",
      "\n",
      "1.0\n"
     ]
    }
   ],
   "source": [
    "argumenten_lijst=[]\n",
    "\n",
    "def argumenten(ingaven):\n",
    "    x = input('wil je een argument geven y/n?\\n')\n",
    "    if x == \"y\":\n",
    "        i = input('geef mij een argument\\n')\n",
    "        argumenten_lijst.append(i)\n",
    "        return argumenten(ingaven)\n",
    "    elif x == 'n':\n",
    "        print('oke ik stop\\n')\n",
    "    else:\n",
    "        print ('gelive y of n intevoeren\\n')\n",
    "        return argumenten(ingaven)\n",
    "\n",
    "print(argumenten_lijst)\n",
    "\n",
    "def berekening():\n",
    "    y= len(argumenten_lijst)\n",
    "    uitkomst = y/y\n",
    "    print (uitkomst)\n",
    "\n",
    "argumenten(argumenten_lijst)\n",
    "berekening()\n"
   ]
  }
 ],
 "metadata": {
  "kernelspec": {
   "display_name": "Python 3",
   "language": "python",
   "name": "python3"
  },
  "language_info": {
   "codemirror_mode": {
    "name": "ipython",
    "version": 3
   },
   "file_extension": ".py",
   "mimetype": "text/x-python",
   "name": "python",
   "nbconvert_exporter": "python",
   "pygments_lexer": "ipython3",
   "version": "3.11.5"
  }
 },
 "nbformat": 4,
 "nbformat_minor": 2
}
