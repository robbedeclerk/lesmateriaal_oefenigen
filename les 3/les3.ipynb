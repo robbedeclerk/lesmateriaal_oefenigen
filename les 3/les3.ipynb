{
 "cells": [
  {
   "cell_type": "code",
   "execution_count": null,
   "metadata": {},
   "outputs": [],
   "source": [
    "\n",
    "\n",
    "w = (input(\"welke richting wil je gaan left,richt,up,down\\n\"))\n",
    "\n",
    "print (w)\n",
    "\n",
    "\n",
    "\n",
    "\n",
    "\n"
   ]
  },
  {
   "cell_type": "code",
   "execution_count": null,
   "metadata": {},
   "outputs": [],
   "source": [
    "def wegwijze(r):\n",
    "    if r == \"right\":\n",
    "        return \"right\"\n",
    "    elif r == \"left\":\n",
    "        return \"left\"\n",
    "    elif r == \"up\":\n",
    "        return \"up\"\n",
    "    elif r == \"down\":\n",
    "        return \"down\"\n",
    "    else:\n",
    "        return \"is geen optie\" \n",
    "\n",
    "\n",
    "\n",
    "r = input(\"geef een richting van right,left,up,down\\n\")\n",
    "\n",
    "def chosen_wegwijze(r):\n",
    "    if r == \"right\":\n",
    "        return \"right\"\n",
    "    elif r == \"left\":\n",
    "        return \"left\"\n",
    "    elif r == \"up\":\n",
    "        return \"up\"\n",
    "    elif r == \"down\":\n",
    "        return \"down\""
   ]
  },
  {
   "cell_type": "code",
   "execution_count": 3,
   "metadata": {},
   "outputs": [
    {
     "name": "stdout",
     "output_type": "stream",
     "text": [
      "27\n"
     ]
    }
   ],
   "source": [
    "getal = int(input(\"eerste getal\\n\"))\n",
    "getal1 = int(input('tweede getal\\n'))\n",
    "\n",
    "print (getal + getal1)"
   ]
  },
  {
   "cell_type": "code",
   "execution_count": 9,
   "metadata": {},
   "outputs": [
    {
     "name": "stdout",
     "output_type": "stream",
     "text": [
      "15.0\n"
     ]
    }
   ],
   "source": [
    "getal = int(input(\"eerste getal\\n\"))\n",
    "getal1 = int(input('tweede getal\\n'))\n",
    "getal2 = int(input(\"derde getal\"))\n",
    "\n",
    "print ((getal + getal1 + getal2)/3)"
   ]
  },
  {
   "cell_type": "code",
   "execution_count": 11,
   "metadata": {},
   "outputs": [
    {
     "name": "stdout",
     "output_type": "stream",
     "text": [
      "20.8\n"
     ]
    }
   ],
   "source": [
    "getal = float(input(\"brete driehoek\\n\"))\n",
    "getal1 = float(input('lengte driehoek\\n'))\n",
    "\n",
    "print (getal * getal1)\n"
   ]
  },
  {
   "cell_type": "code",
   "execution_count": 12,
   "metadata": {},
   "outputs": [
    {
     "name": "stdout",
     "output_type": "stream",
     "text": [
      "1000\n"
     ]
    }
   ],
   "source": [
    "getal = float(input(\"lengte kubus\\n\"))\n",
    "\n",
    "print(getal**3)\n"
   ]
  },
  {
   "cell_type": "code",
   "execution_count": 14,
   "metadata": {},
   "outputs": [
    {
     "name": "stdout",
     "output_type": "stream",
     "text": [
      "23\n"
     ]
    }
   ],
   "source": [
    "getal = int(input(\"geef meerdere getalen\\n\"))\n",
    "getal1 = str(getal)\n",
    "print(getal1[1:3])"
   ]
  },
  {
   "cell_type": "code",
   "execution_count": null,
   "metadata": {},
   "outputs": [],
   "source": []
  },
  {
   "cell_type": "code",
   "execution_count": 20,
   "metadata": {},
   "outputs": [
    {
     "data": {
      "text/plain": [
       "175.07199599999876"
      ]
     },
     "execution_count": 20,
     "metadata": {},
     "output_type": "execute_result"
    }
   ],
   "source": [
    "#ruwe schater van een getal\n",
    "\n",
    "def ruweschatter(getal):\n",
    "    i = 0\n",
    "    vermedigvuldiger = 1\n",
    "    while vermedigvuldiger * vermedigvuldiger <= getal:\n",
    "        vermedigvuldiger +=1\n",
    "        i+= 1\n",
    "    return vermedigvuldiger -1, i\n",
    "\n",
    "\n",
    "\n",
    "\n",
    "#vierkantswortel\n",
    "\n",
    "def vierkanstworten(getal, factor= 0.001):\n",
    "    start, i = ruweschatter(getal)\n",
    "    vermedigvuldeger = start + factor\n",
    "    \n",
    "    while factor < getal - vermedigvuldeger * vermedigvuldeger \\\n",
    "        and vermedigvuldeger * vermedigvuldeger < getal:\n",
    "        vermedigvuldeger += factor\n",
    "        i += 1\n",
    "        return vermedigvuldeger, i \n",
    "\n",
    "\n",
    "vierkanstworten(54000)\n",
    "\n",
    "54000 - vierkanstworten(54000)[0]**2\n"
   ]
  }
 ],
 "metadata": {
  "kernelspec": {
   "display_name": "Python 3",
   "language": "python",
   "name": "python3"
  },
  "language_info": {
   "codemirror_mode": {
    "name": "ipython",
    "version": 3
   },
   "file_extension": ".py",
   "mimetype": "text/x-python",
   "name": "python",
   "nbconvert_exporter": "python",
   "pygments_lexer": "ipython3",
   "version": "3.11.5"
  },
  "orig_nbformat": 4
 },
 "nbformat": 4,
 "nbformat_minor": 2
}
