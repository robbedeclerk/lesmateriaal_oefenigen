{
 "cells": [
  {
   "cell_type": "code",
   "execution_count": 2,
   "metadata": {},
   "outputs": [
    {
     "name": "stdout",
     "output_type": "stream",
     "text": [
      "robbe 1\n",
      "koen 2\n",
      "sien 3\n",
      "nelle 4\n",
      "jef 5\n"
     ]
    }
   ],
   "source": [
    "lijst1 = (\"robbe\", \"koen\", \"sien\", \"nelle\", \"jef\")\n",
    "lijst2 = (\"1\", \"2\", \"3\" ,\"4\", \"5\")\n",
    "\n",
    "i = 0\n",
    "\n",
    "while i != int(len(lijst1)) and int(len(lijst2)):\n",
    "    print(lijst1[i], lijst2[i])\n",
    "    i+=1"
   ]
  },
  {
   "cell_type": "code",
   "execution_count": null,
   "metadata": {},
   "outputs": [],
   "source": [
    "lijst1 = [\"robbe\", \"koen\", \"sien\", \"nelle\", \"jef\"]\n",
    "lijst2 = [\"1\", \"2\", \"3\" ,\"4\", \"5\"]\n",
    "\n",
    "\n",
    "print(len(lijst1))\n",
    "i = int(input('Geef een getal in: '))\n",
    "\n",
    "while i > int(len(lijst1)):\n",
    "    i = int(input('Geef een getal in: '))\n",
    "\n",
    "\n",
    "for i in lijst1:\n",
    "    print(lijst1(i))\n",
    "\n"
   ]
  },
  {
   "cell_type": "code",
   "execution_count": 25,
   "metadata": {},
   "outputs": [
    {
     "name": "stdout",
     "output_type": "stream",
     "text": [
      "de naam van de studenten zijn\n",
      "\n"
     ]
    },
    {
     "ename": "TypeError",
     "evalue": "len() takes exactly one argument (2 given)",
     "output_type": "error",
     "traceback": [
      "\u001b[1;31m---------------------------------------------------------------------------\u001b[0m",
      "\u001b[1;31mTypeError\u001b[0m                                 Traceback (most recent call last)",
      "\u001b[1;32mc:\\Users\\robbe\\OneDrive\\Documenten\\schoolwerk\\les6\\oefening1.ipynb Cell 3\u001b[0m line \u001b[0;36m1\n\u001b[0;32m     <a href='vscode-notebook-cell:/c%3A/Users/robbe/OneDrive/Documenten/schoolwerk/les6/oefening1.ipynb#W2sZmlsZQ%3D%3D?line=9'>10</a>\u001b[0m \u001b[39mfor\u001b[39;00m x \u001b[39min\u001b[39;00m (lijst_studenten):\n\u001b[0;32m     <a href='vscode-notebook-cell:/c%3A/Users/robbe/OneDrive/Documenten/schoolwerk/les6/oefening1.ipynb#W2sZmlsZQ%3D%3D?line=10'>11</a>\u001b[0m     \u001b[39mprint\u001b[39m(\u001b[39m\"\u001b[39m\u001b[39mde naam van de studenten zijn\u001b[39m\u001b[39m\\n\u001b[39;00m\u001b[39m\"\u001b[39m)\n\u001b[1;32m---> <a href='vscode-notebook-cell:/c%3A/Users/robbe/OneDrive/Documenten/schoolwerk/les6/oefening1.ipynb#W2sZmlsZQ%3D%3D?line=11'>12</a>\u001b[0m     \u001b[39mprint\u001b[39m (\u001b[39mint\u001b[39m(\u001b[39mlen\u001b[39;49m(lijst_studenten,\u001b[39m2\u001b[39;49m)))\n\u001b[0;32m     <a href='vscode-notebook-cell:/c%3A/Users/robbe/OneDrive/Documenten/schoolwerk/les6/oefening1.ipynb#W2sZmlsZQ%3D%3D?line=13'>14</a>\u001b[0m     \u001b[39mprint\u001b[39m(\u001b[39m\"\u001b[39m\u001b[39mde leeftijden zijn\u001b[39m\u001b[39m\\n\u001b[39;00m\u001b[39m\"\u001b[39m)\n\u001b[0;32m     <a href='vscode-notebook-cell:/c%3A/Users/robbe/OneDrive/Documenten/schoolwerk/les6/oefening1.ipynb#W2sZmlsZQ%3D%3D?line=14'>15</a>\u001b[0m     \u001b[39mprint\u001b[39m (\u001b[39mint\u001b[39m(\u001b[39mlen\u001b[39m(lijst_studenten,\u001b[39m4\u001b[39m)))\n",
      "\u001b[1;31mTypeError\u001b[0m: len() takes exactly one argument (2 given)"
     ]
    }
   ],
   "source": [
    "\n",
    "studend1= [1 , \"robbe\" , \"de clerck\" , \"25\" , \"python\"]\n",
    "studend2= [2 , \"wiebe\" , \"de clerck\" , \"28\" , \"python\"]\n",
    "studend3= [3 , \"nelle\" , \"de clerck\" , \"23\" , \"IT\"]\n",
    "studend4= [4 , \"jozefien\" , \"de clerck\" , \"18\" , \"IT\"]\n",
    "studend5= [5 , \"koen\" , \"de clerck\" , \"20\" , \"python\"]\n",
    "\n",
    "lijst_studenten = [studend1 , studend2 , studend3 , studend4 , studend5]\n",
    "\n",
    "x = len(lijst_studenten)\n",
    "\n",
    "for x in (lijst_studenten):\n",
    "    print(\"de naam van de studenten zijn\\n\")\n",
    "    print (int(len(lijst_studenten,2)))\n",
    "\n",
    "    print(\"de leeftijden zijn\\n\")\n",
    "    print (int(len(lijst_studenten,4)))\n",
    "\n",
    "    print(\"de verschildende cusrsusen zijn\\n\")\n",
    "    print (int(len(lijst_studenten,5)))"
   ]
  },
  {
   "cell_type": "code",
   "execution_count": null,
   "metadata": {},
   "outputs": [],
   "source": [
    "namen = {1 : \"Jaro\",2 : \"Jaro\",3 : \"Jaro\",4 : \"Jaro\",5 : \"Jaro\",}\n",
    "voornamen =  {1 : \"Jaro\",2 : \"Jaro\",3 : \"Jaro\",4 : \"Jaro\",5 : \"Jaro\",}\n",
    "leeftijd =  {1 : \"Jaro\",2 : \"Jaro\",3 : \"Jaro\",4 : \"Jaro\",5 : \"Jaro\",}\n",
    "cursus = {1 : \"Jaro\",2 : \"Jaro\",3 : \"Jaro\",4 : \"Jaro\",5 : \"Jaro\",}\n",
    "\n",
    "x = int(input)\n",
    "\n",
    "print(namen[x], voornamen[x], leeftijd[x], cursus[x])\n"
   ]
  },
  {
   "cell_type": "code",
   "execution_count": null,
   "metadata": {},
   "outputs": [],
   "source": [
    "cursus = [\"Python\" , \"IT\"]\n",
    "\n",
    "studend1 ={\"id\":1 , \"naam\": \"robbe\" , \"voornaam\" : \"de clerck\" , \"leeftijd\": \"25\" , 'cursus': cursus[0]}\n",
    "studend2 =2\n",
    "studend3 =4\n",
    "studend4 =7\n",
    "studend5 =8"
   ]
  },
  {
   "cell_type": "code",
   "execution_count": null,
   "metadata": {},
   "outputs": [],
   "source": [
    "import random\n",
    "\n",
    "getal=[]\n",
    "\n",
    "\n",
    "\n",
    "\n",
    "while len(getal) != 6:\n",
    "    y = int(input(\"kies een getal tussen 1 en  45\\n\"))\n",
    "    getal.append(y)\n",
    "    if y == y:\n",
    "        y = int(input(\"kies een ander getal 1 en  45\\n\"))\n",
    "    elif x!= x:\n",
    "        getal.append(y)\n",
    "\n",
    "print(getal)\n",
    "\n",
    "\n",
    "getal_random = []\n",
    "\n",
    "while len(getal_random) != 6:\n",
    "    x= random.randint(1,46)\n",
    "    getal_random.append(x)\n",
    "    if x == x:\n",
    "        x= random.randint(1,46)\n",
    "    elif x!= x:\n",
    "        getal_random.append(x)\n",
    "\n",
    "print (getal_random)\n",
    "\n",
    "\n",
    "\n",
    "\n",
    "\n",
    "\n",
    "\n"
   ]
  },
  {
   "cell_type": "code",
   "execution_count": 75,
   "metadata": {},
   "outputs": [
    {
     "name": "stdout",
     "output_type": "stream",
     "text": [
      "[31, 13, 41, 14, 35, 10]\n"
     ]
    }
   ],
   "source": [
    "getal_random = []\n",
    "\n",
    "while len(getal_random) != 6:\n",
    "    x= random.randint(1,46)\n",
    "    getal_random.append(x)\n",
    "    if x == x:\n",
    "        x= random.randint(1,46)\n",
    "    elif x!= x:\n",
    "        getal_random.append(x)\n",
    "\n",
    "print (getal_random)\n"
   ]
  },
  {
   "cell_type": "code",
   "execution_count": 76,
   "metadata": {},
   "outputs": [
    {
     "ename": "ValueError",
     "evalue": "invalid literal for int() with base 10: 'geef een getal tussen 1 en 45\\n'",
     "output_type": "error",
     "traceback": [
      "\u001b[1;31m---------------------------------------------------------------------------\u001b[0m",
      "\u001b[1;31mValueError\u001b[0m                                Traceback (most recent call last)",
      "\u001b[1;32mc:\\Users\\robbe\\OneDrive\\Documenten\\schoolwerk\\les6\\oefening1.ipynb Cell 8\u001b[0m line \u001b[0;36m1\n\u001b[0;32m     <a href='vscode-notebook-cell:/c%3A/Users/robbe/OneDrive/Documenten/schoolwerk/les6/oefening1.ipynb#X13sZmlsZQ%3D%3D?line=10'>11</a>\u001b[0m         wat_invoer(gekozen_numers)\n\u001b[0;32m     <a href='vscode-notebook-cell:/c%3A/Users/robbe/OneDrive/Documenten/schoolwerk/les6/oefening1.ipynb#X13sZmlsZQ%3D%3D?line=13'>14</a>\u001b[0m \u001b[39mfor\u001b[39;00m i \u001b[39min\u001b[39;00m \u001b[39mrange\u001b[39m (\u001b[39m6\u001b[39m):\n\u001b[1;32m---> <a href='vscode-notebook-cell:/c%3A/Users/robbe/OneDrive/Documenten/schoolwerk/les6/oefening1.ipynb#X13sZmlsZQ%3D%3D?line=14'>15</a>\u001b[0m     wat_invoer(gekozen_numers)\n\u001b[0;32m     <a href='vscode-notebook-cell:/c%3A/Users/robbe/OneDrive/Documenten/schoolwerk/les6/oefening1.ipynb#X13sZmlsZQ%3D%3D?line=17'>18</a>\u001b[0m getal_random \u001b[39m=\u001b[39m []\n\u001b[0;32m     <a href='vscode-notebook-cell:/c%3A/Users/robbe/OneDrive/Documenten/schoolwerk/les6/oefening1.ipynb#X13sZmlsZQ%3D%3D?line=19'>20</a>\u001b[0m \u001b[39mwhile\u001b[39;00m \u001b[39mlen\u001b[39m(getal_random) \u001b[39m!=\u001b[39m \u001b[39m6\u001b[39m:\n",
      "\u001b[1;32mc:\\Users\\robbe\\OneDrive\\Documenten\\schoolwerk\\les6\\oefening1.ipynb Cell 8\u001b[0m line \u001b[0;36m5\n\u001b[0;32m      <a href='vscode-notebook-cell:/c%3A/Users/robbe/OneDrive/Documenten/schoolwerk/les6/oefening1.ipynb#X13sZmlsZQ%3D%3D?line=3'>4</a>\u001b[0m \u001b[39mdef\u001b[39;00m \u001b[39mwat_invoer\u001b[39m(gekozen_numers):\n\u001b[1;32m----> <a href='vscode-notebook-cell:/c%3A/Users/robbe/OneDrive/Documenten/schoolwerk/les6/oefening1.ipynb#X13sZmlsZQ%3D%3D?line=4'>5</a>\u001b[0m     gekozen_numers \u001b[39m=\u001b[39m \u001b[39minput\u001b[39m (\u001b[39mint\u001b[39;49m(\u001b[39m\"\u001b[39;49m\u001b[39mgeef een getal tussen 1 en 45\u001b[39;49m\u001b[39m\\n\u001b[39;49;00m\u001b[39m\"\u001b[39;49m))\n\u001b[0;32m      <a href='vscode-notebook-cell:/c%3A/Users/robbe/OneDrive/Documenten/schoolwerk/les6/oefening1.ipynb#X13sZmlsZQ%3D%3D?line=5'>6</a>\u001b[0m     \u001b[39mif\u001b[39;00m gekozen_numers \u001b[39mnot\u001b[39;00m \u001b[39min\u001b[39;00m gekozen_numers:\n\u001b[0;32m      <a href='vscode-notebook-cell:/c%3A/Users/robbe/OneDrive/Documenten/schoolwerk/les6/oefening1.ipynb#X13sZmlsZQ%3D%3D?line=6'>7</a>\u001b[0m         gekozen_numers\u001b[39m.\u001b[39mappend(gekozen_numers)\n",
      "\u001b[1;31mValueError\u001b[0m: invalid literal for int() with base 10: 'geef een getal tussen 1 en 45\\n'"
     ]
    }
   ],
   "source": [
    "gekozen_numers = []\n",
    "\n",
    "\n",
    "def wat_invoer(gekozen_numers):\n",
    "    gekozen_numers = input (int(\"geef een getal tussen 1 en 45\\n\"))\n",
    "    if gekozen_numers not in gekozen_numers:\n",
    "        gekozen_numers.append(gekozen_numers)\n",
    "        return gekozen_numers\n",
    "    else :\n",
    "        print(\"dit nummer heeft u al gekozen geef een ander\")\n",
    "        wat_invoer(gekozen_numers)\n",
    "\n",
    "\n",
    "for i in range (6):\n",
    "    wat_invoer(gekozen_numers)\n",
    "\n",
    "\n",
    "getal_random = []\n",
    "\n",
    "while len(getal_random) != 6:\n",
    "    x= random.randint(1,46)\n",
    "    getal_random.append(x)\n",
    "    if x == x:\n",
    "        x= random.randint(1,46)\n",
    "    elif x!= x:\n",
    "        getal_random.append(x)\n",
    "\n",
    "print(gekozen_numers)\n",
    "print(getal_random)"
   ]
  },
  {
   "cell_type": "code",
   "execution_count": null,
   "metadata": {},
   "outputs": [],
   "source": [
    "def myfunction():\n",
    "    print (myfunction)\n",
    "\n",
    "\n",
    "\n",
    "#aanroepen functie:\n",
    "\n",
    "myfunction()\n",
    "\n"
   ]
  },
  {
   "cell_type": "code",
   "execution_count": 90,
   "metadata": {},
   "outputs": [
    {
     "name": "stdout",
     "output_type": "stream",
     "text": [
      "17\n"
     ]
    }
   ],
   "source": [
    "lijst = []\n",
    "    \n",
    "def som(getal):\n",
    "    getal = sum(lijst)\n",
    "    return getal\n",
    "    \n",
    "\n",
    "def main():    \n",
    "    \n",
    "    antw = input('wilt u getallen invoeren? y/n')\n",
    "    \n",
    "    while antw == 'y':\n",
    "        getal = int(input())\n",
    "        lijst.append(getal)\n",
    "        antw = input('verder? y/n')\n",
    "        if antw == 'y':\n",
    "            continue\n",
    "        else:\n",
    "            som(getal)\n",
    "            break\n",
    "    print(som(getal))\n",
    "\n",
    "main()"
   ]
  },
  {
   "cell_type": "code",
   "execution_count": 92,
   "metadata": {},
   "outputs": [
    {
     "name": "stdout",
     "output_type": "stream",
     "text": [
      "het getal 4 is even\n",
      "\n",
      "getal 9 is oneven\n",
      "\n",
      "13\n"
     ]
    }
   ],
   "source": [
    "lijst = []\n",
    "\n",
    "\n",
    "def even_oneven(getal):\n",
    "    \n",
    "    getal =0\n",
    "    while getal in range(int(len(lijst))):\n",
    "        if lijst[getal] %2== 0:\n",
    "            print(f'het getal {lijst[getal]} is even\\n')\n",
    "            getal+=1\n",
    "        else:\n",
    "            print(f'getal {lijst[getal]} is oneven\\n')\n",
    "            getal+=1\n",
    "\n",
    "\n",
    "def som(getal):\n",
    "    getal = sum(lijst)\n",
    "    return getal\n",
    "    \n",
    "\n",
    "def main():    \n",
    "    \n",
    "    antw = input('wilt u getallen invoeren? y/n')\n",
    "    \n",
    "    while antw == 'y':\n",
    "        getal = int(input())\n",
    "        lijst.append(getal)\n",
    "        antw = input('verder? y/n')\n",
    "        if antw == 'y':\n",
    "            continue\n",
    "        else:\n",
    "            som(getal)\n",
    "            even_oneven(getal)\n",
    "            break\n",
    "    print(som(getal))\n",
    "\n",
    "main()"
   ]
  },
  {
   "cell_type": "code",
   "execution_count": 102,
   "metadata": {},
   "outputs": [
    {
     "ename": "AttributeError",
     "evalue": "'str' object has no attribute 'append'",
     "output_type": "error",
     "traceback": [
      "\u001b[1;31m---------------------------------------------------------------------------\u001b[0m",
      "\u001b[1;31mAttributeError\u001b[0m                            Traceback (most recent call last)",
      "\u001b[1;32mc:\\Users\\robbe\\OneDrive\\Documenten\\schoolwerk\\les6\\oefening1.ipynb Cell 12\u001b[0m line \u001b[0;36m2\n\u001b[0;32m     <a href='vscode-notebook-cell:/c%3A/Users/robbe/OneDrive/Documenten/schoolwerk/les6/oefening1.ipynb#X20sZmlsZQ%3D%3D?line=22'>23</a>\u001b[0m     salaris_ing()\n\u001b[0;32m     <a href='vscode-notebook-cell:/c%3A/Users/robbe/OneDrive/Documenten/schoolwerk/les6/oefening1.ipynb#X20sZmlsZQ%3D%3D?line=23'>24</a>\u001b[0m     \u001b[39mprint\u001b[39m (namen_ing \u001b[39m+\u001b[39m salaris_ing)\n\u001b[1;32m---> <a href='vscode-notebook-cell:/c%3A/Users/robbe/OneDrive/Documenten/schoolwerk/les6/oefening1.ipynb#X20sZmlsZQ%3D%3D?line=25'>26</a>\u001b[0m main()\n",
      "\u001b[1;32mc:\\Users\\robbe\\OneDrive\\Documenten\\schoolwerk\\les6\\oefening1.ipynb Cell 12\u001b[0m line \u001b[0;36m2\n\u001b[0;32m     <a href='vscode-notebook-cell:/c%3A/Users/robbe/OneDrive/Documenten/schoolwerk/les6/oefening1.ipynb#X20sZmlsZQ%3D%3D?line=20'>21</a>\u001b[0m \u001b[39mdef\u001b[39;00m \u001b[39mmain\u001b[39m():\n\u001b[1;32m---> <a href='vscode-notebook-cell:/c%3A/Users/robbe/OneDrive/Documenten/schoolwerk/les6/oefening1.ipynb#X20sZmlsZQ%3D%3D?line=21'>22</a>\u001b[0m     namen_ing()\n\u001b[0;32m     <a href='vscode-notebook-cell:/c%3A/Users/robbe/OneDrive/Documenten/schoolwerk/les6/oefening1.ipynb#X20sZmlsZQ%3D%3D?line=22'>23</a>\u001b[0m     salaris_ing()\n\u001b[0;32m     <a href='vscode-notebook-cell:/c%3A/Users/robbe/OneDrive/Documenten/schoolwerk/les6/oefening1.ipynb#X20sZmlsZQ%3D%3D?line=23'>24</a>\u001b[0m     \u001b[39mprint\u001b[39m (namen_ing \u001b[39m+\u001b[39m salaris_ing)\n",
      "\u001b[1;32mc:\\Users\\robbe\\OneDrive\\Documenten\\schoolwerk\\les6\\oefening1.ipynb Cell 12\u001b[0m line \u001b[0;36m8\n\u001b[0;32m      <a href='vscode-notebook-cell:/c%3A/Users/robbe/OneDrive/Documenten/schoolwerk/les6/oefening1.ipynb#X20sZmlsZQ%3D%3D?line=5'>6</a>\u001b[0m \u001b[39mdef\u001b[39;00m \u001b[39mnamen_ing\u001b[39m():\n\u001b[0;32m      <a href='vscode-notebook-cell:/c%3A/Users/robbe/OneDrive/Documenten/schoolwerk/les6/oefening1.ipynb#X20sZmlsZQ%3D%3D?line=6'>7</a>\u001b[0m     namen_opg\u001b[39m=\u001b[39m \u001b[39minput\u001b[39m()\n\u001b[1;32m----> <a href='vscode-notebook-cell:/c%3A/Users/robbe/OneDrive/Documenten/schoolwerk/les6/oefening1.ipynb#X20sZmlsZQ%3D%3D?line=7'>8</a>\u001b[0m     namen_opg\u001b[39m.\u001b[39;49mappend(namen)\n",
      "\u001b[1;31mAttributeError\u001b[0m: 'str' object has no attribute 'append'"
     ]
    }
   ],
   "source": [
    "namen=[]\n",
    "salaris=[]\n",
    "\n",
    "\n",
    "def salaris_ing():\n",
    "    salaris_opg = input('wat is het salaris\\n')\n",
    "    \n",
    "    if salaris_opg == '':\n",
    "        salaris_ing == 2000\n",
    "    else:\n",
    "        salaris_ing == salaris_opg\n",
    "\n",
    "\n",
    "\n",
    "def main():\n",
    "    name =input('')\n",
    "    namen.append(name)\n",
    "    print (namen + salaris_ing)\n",
    "\n",
    "main()"
   ]
  },
  {
   "cell_type": "code",
   "execution_count": 105,
   "metadata": {},
   "outputs": [
    {
     "name": "stdout",
     "output_type": "stream",
     "text": [
      "jaromir has a salary of 3600\n"
     ]
    }
   ],
   "source": [
    "name  = []\n",
    "salaris = []\n",
    "\n",
    "def salary(getal):\n",
    "    getal = 0\n",
    "    \n",
    "    while getal in range(int(len(salaris))):\n",
    "        if salaris[getal] == '':\n",
    "            salaris[getal] = 2000\n",
    "            getal+=1\n",
    "        else:\n",
    "            getal+=1\n",
    "    if getal == range(len(salaris)):\n",
    "        return salaris\n",
    "\n",
    "def lijst(i):\n",
    "    i=0\n",
    "    while i in range(len(name)):\n",
    "        print(f'{name[i]} has a salary of {salaris[i]}')\n",
    "        i+=1\n",
    "        \n",
    "def main():\n",
    "    naam = input('wat is uw naam\\n')\n",
    "    sal = input('wat is uw salaris?\\n')\n",
    "    name.append(naam)\n",
    "    salaris.append(sal)\n",
    "    antw = input()\n",
    "    if antw == y:\n",
    "        naam = input('wat is uw naam\\n')\n",
    "        sal = input('wat is uw salaris?\\n')\n",
    "        name.append(naam)\n",
    "        salaris.append(sal)\n",
    "    else:\n",
    "        salary(getal)\n",
    "        lijst(getal)\n",
    "\n",
    "main()"
   ]
  },
  {
   "cell_type": "code",
   "execution_count": 133,
   "metadata": {},
   "outputs": [
    {
     "name": "stdout",
     "output_type": "stream",
     "text": [
      "[5, 1, 7, 9, 8, 4]\n"
     ]
    }
   ],
   "source": [
    "print (random.sample(range(1,10), 6))"
   ]
  },
  {
   "cell_type": "code",
   "execution_count": 175,
   "metadata": {},
   "outputs": [
    {
     "name": "stdout",
     "output_type": "stream",
     "text": [
      "18\n"
     ]
    }
   ],
   "source": [
    "print(5 \\\n",
    "       +8\\\n",
    "       +5)"
   ]
  },
  {
   "cell_type": "code",
   "execution_count": 213,
   "metadata": {},
   "outputs": [
    {
     "name": "stdout",
     "output_type": "stream",
     "text": [
      "dit is een oneven nummer\n"
     ]
    }
   ],
   "source": [
    "number = int(input(\"geef een numer\"))\n",
    "if number %2 == 0:\n",
    "    print ('dit is een even nummer')\n",
    "else:\n",
    "    print ('dit is een oneven nummer')"
   ]
  },
  {
   "cell_type": "code",
   "execution_count": 215,
   "metadata": {},
   "outputs": [
    {
     "name": "stdout",
     "output_type": "stream",
     "text": [
      "even\n"
     ]
    }
   ],
   "source": [
    "number = int(input(\"geef een numer\"))\n",
    "\n",
    "res = 'even' if number%2==0 else 'oneven'\n",
    "print(res)"
   ]
  },
  {
   "cell_type": "code",
   "execution_count": 217,
   "metadata": {},
   "outputs": [
    {
     "name": "stdout",
     "output_type": "stream",
     "text": [
      "leeg\n"
     ]
    }
   ],
   "source": [
    "teskt = input()\n",
    "\n",
    "rest = 'leeg' if len(teskt) == 0 else 'tekst'\n",
    "print( rest)"
   ]
  },
  {
   "cell_type": "code",
   "execution_count": 219,
   "metadata": {},
   "outputs": [],
   "source": [
    "def factorial(n):\n",
    "    if n == 1:\n",
    "        return 1\n",
    "    else:\n",
    "        return n*factorial(n-1)\n"
   ]
  },
  {
   "cell_type": "code",
   "execution_count": 227,
   "metadata": {},
   "outputs": [],
   "source": [
    "def factorial(x):\n",
    "    return 1 if x == 0 else x * factorial(x-1)\n",
    "\n",
    "\n"
   ]
  }
 ],
 "metadata": {
  "kernelspec": {
   "display_name": "Python 3",
   "language": "python",
   "name": "python3"
  },
  "language_info": {
   "codemirror_mode": {
    "name": "ipython",
    "version": 3
   },
   "file_extension": ".py",
   "mimetype": "text/x-python",
   "name": "python",
   "nbconvert_exporter": "python",
   "pygments_lexer": "ipython3",
   "version": "3.11.5"
  }
 },
 "nbformat": 4,
 "nbformat_minor": 2
}
