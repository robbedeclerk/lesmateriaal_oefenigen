{
 "cells": [
  {
   "cell_type": "markdown",
   "metadata": {},
   "source": [
    "vraag de gebruiker om een woord en geef weer hoeveel leters er in dit woord zitten"
   ]
  },
  {
   "cell_type": "code",
   "execution_count": 1,
   "metadata": {},
   "outputs": [
    {
     "name": "stdout",
     "output_type": "stream",
     "text": [
      "4\n"
     ]
    }
   ],
   "source": [
    "woord = input('geef een woord\\n')\n",
    "print (len(woord))"
   ]
  },
  {
   "cell_type": "markdown",
   "metadata": {},
   "source": [
    "vraag de gebruikerom zijn voornaam en achternaam druk deze af in hooftleters kleine leters en camelcase"
   ]
  },
  {
   "cell_type": "code",
   "execution_count": 3,
   "metadata": {},
   "outputs": [
    {
     "name": "stdout",
     "output_type": "stream",
     "text": [
      "ROBBE DE CLERCK\n",
      "robbe de clerck\n",
      "Robbe de clerck\n"
     ]
    }
   ],
   "source": [
    "naam = input('geef je voornaam en achternaam\\n')\n",
    "\n",
    "print (naam.upper())\n",
    "print (naam.lower())\n",
    "print (naam.capitalize())"
   ]
  },
  {
   "cell_type": "markdown",
   "metadata": {},
   "source": [
    "vraag de gerbuiker om een woord druk hiervan de eerste en laaste letter af"
   ]
  },
  {
   "cell_type": "code",
   "execution_count": 4,
   "metadata": {},
   "outputs": [
    {
     "name": "stdout",
     "output_type": "stream",
     "text": [
      "r\n",
      "e\n"
     ]
    }
   ],
   "source": [
    "woord = input('geef een woord\\n')\n",
    "\n",
    "print (woord[0])\n",
    "print (woord[-1])"
   ]
  },
  {
   "cell_type": "markdown",
   "metadata": {},
   "source": [
    "vraag de gebruiker om een tekst druk hiervan de eerste 3 en de laatste 3 leters af"
   ]
  },
  {
   "cell_type": "code",
   "execution_count": 9,
   "metadata": {},
   "outputs": [
    {
     "name": "stdout",
     "output_type": "stream",
     "text": [
      "ik \n",
      "ste\n"
     ]
    }
   ],
   "source": [
    "tekst = input('geef een tekst\\n')\n",
    "\n",
    "print (tekst[0:3])\n",
    "print (tekst[-3:])"
   ]
  },
  {
   "cell_type": "markdown",
   "metadata": {},
   "source": [
    "vraag de gerbuiker om een tekst te geven druk af als de leters a en t in deze tekst voorkomen"
   ]
  },
  {
   "cell_type": "code",
   "execution_count": 11,
   "metadata": {},
   "outputs": [
    {
     "name": "stdout",
     "output_type": "stream",
     "text": [
      "teee an appels\n"
     ]
    }
   ],
   "source": [
    "tekst = input('geef een tekst\\n')\n",
    "\n",
    "if 'a' in tekst and 't' in tekst:\n",
    "    print(tekst)\n",
    "else:\n",
    "    print('ik luister niet')"
   ]
  },
  {
   "cell_type": "markdown",
   "metadata": {},
   "source": [
    "zet drie waarde in een lijst en print dit"
   ]
  },
  {
   "cell_type": "code",
   "execution_count": 12,
   "metadata": {},
   "outputs": [
    {
     "name": "stdout",
     "output_type": "stream",
     "text": [
      "['appel', 'peer', 'banaan']\n"
     ]
    }
   ],
   "source": [
    "waarde = [\"appel\", \"peer\", \"banaan\"]\n",
    "\n",
    "print (waarde)"
   ]
  },
  {
   "cell_type": "markdown",
   "metadata": {},
   "source": [
    "vraag de gebruiker voor drie getalen en zet deze in een lijst indien het getal even is deel je dit door 2 en sorteer de lijst"
   ]
  },
  {
   "cell_type": "code",
   "execution_count": 24,
   "metadata": {},
   "outputs": [
    {
     "name": "stdout",
     "output_type": "stream",
     "text": [
      "[2]\n",
      "[1, 5]\n",
      "[1, 2, 5]\n"
     ]
    }
   ],
   "source": [
    "list = []\n",
    "\n",
    "while len(list) <=2:\n",
    "    getal = int(input())\n",
    "    list.append(getal)\n",
    "    lengte = len(list)\n",
    "    i=0\n",
    "    for i in range(len(list)):\n",
    "        if list[i] % 2 == 0:\n",
    "            list[i] = int(list[i]/2)\n",
    "            i+=1\n",
    "        else:\n",
    "            i+=1\n",
    "        if i == lengte:\n",
    "            list.sort()\n",
    "            print(list)\n",
    "\n"
   ]
  },
  {
   "cell_type": "markdown",
   "metadata": {},
   "source": [
    "vraag de gebruiker om een getal tussen 1 en 10 in te gegeven druk alle voorgaande nummer af"
   ]
  },
  {
   "cell_type": "code",
   "execution_count": 26,
   "metadata": {},
   "outputs": [
    {
     "name": "stdout",
     "output_type": "stream",
     "text": [
      "7\n",
      "6\n",
      "5\n",
      "4\n",
      "3\n",
      "2\n",
      "1\n",
      "0\n"
     ]
    }
   ],
   "source": [
    "getal = input('geef een getal tusssen 1 en 10\\n')\n",
    "\n",
    "lijst = ['1','2','3','4','5','6','7','8','9','10']\n",
    "\n",
    "if getal in lijst:\n",
    "    i = int(getal)\n",
    "    while i != 0:\n",
    "        i-=1\n",
    "        print (i)"
   ]
  },
  {
   "cell_type": "markdown",
   "metadata": {},
   "source": [
    "vraag de gebruiker om een getal tussen 1 en 60 in te geven druk alle cijfers af die je kan delen door 9"
   ]
  },
  {
   "cell_type": "code",
   "execution_count": null,
   "metadata": {},
   "outputs": [],
   "source": []
  },
  {
   "cell_type": "markdown",
   "metadata": {},
   "source": [
    "vraag de gebruiker om een tekst in te geven tel het aantal leters en cijfers en druk deze af"
   ]
  },
  {
   "cell_type": "code",
   "execution_count": null,
   "metadata": {},
   "outputs": [],
   "source": []
  },
  {
   "cell_type": "markdown",
   "metadata": {},
   "source": [
    "maak een dobbelsteen en gooi de dobbelsteen geef de gegooide waarde"
   ]
  },
  {
   "cell_type": "code",
   "execution_count": 62,
   "metadata": {},
   "outputs": [
    {
     "name": "stdout",
     "output_type": "stream",
     "text": [
      "5\n"
     ]
    }
   ],
   "source": [
    "import random\n",
    "\n",
    "dobelsteen = random.choice(range(1,7))\n",
    "print (dobelsteen)"
   ]
  },
  {
   "cell_type": "markdown",
   "metadata": {},
   "source": [
    "maak een spel dat de gebruiker een getal tussen 1 en 20 moet raden als de gerbuiker een cijfer ingeeft dat dan krijgt hij een hint of hij hoger of lager moet raden voeg ook een optie om te stoppen in\n"
   ]
  },
  {
   "cell_type": "code",
   "execution_count": null,
   "metadata": {},
   "outputs": [],
   "source": []
  },
  {
   "cell_type": "markdown",
   "metadata": {},
   "source": [
    "maak een lijst met steden in kies er en random 3 via random module op de index indien de index even is vervang je de naam door streepjes indien de index oneven is door steretjesprint de lijst af waarbij de vervanging is doorgegeven "
   ]
  },
  {
   "cell_type": "code",
   "execution_count": null,
   "metadata": {},
   "outputs": [],
   "source": []
  }
 ],
 "metadata": {
  "kernelspec": {
   "display_name": "Python 3",
   "language": "python",
   "name": "python3"
  },
  "language_info": {
   "codemirror_mode": {
    "name": "ipython",
    "version": 3
   },
   "file_extension": ".py",
   "mimetype": "text/x-python",
   "name": "python",
   "nbconvert_exporter": "python",
   "pygments_lexer": "ipython3",
   "version": "3.11.5"
  }
 },
 "nbformat": 4,
 "nbformat_minor": 2
}
