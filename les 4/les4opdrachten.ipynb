{
 "cells": [
  {
   "cell_type": "code",
   "execution_count": 4,
   "metadata": {},
   "outputs": [
    {
     "name": "stdout",
     "output_type": "stream",
     "text": [
      "5\n"
     ]
    }
   ],
   "source": [
    "#vraag de gebruiker om een woord en geef weer hoeveel leters er in dit woord zitten\n",
    "\n",
    "woord = input(\"geef een woord\\n\")\n",
    "\n",
    "uitkomtst = len(woord)\n",
    "\n",
    "print (uitkomtst)"
   ]
  },
  {
   "cell_type": "code",
   "execution_count": 17,
   "metadata": {},
   "outputs": [
    {
     "name": "stdout",
     "output_type": "stream",
     "text": [
      "ROBBE DE CLERCK\n",
      "robbe de clerck\n",
      "Robbe de clerck\n"
     ]
    }
   ],
   "source": [
    "#vraag de gebruikerom zijn voornaam en achternaam druk deze af in hooftleters kleine leters en camelcase\n",
    "\n",
    "naam = input('geef je naam en familienaam\\n')\n",
    "\n",
    "print (naam.upper())\n",
    "print (naam.lower())\n",
    "print (naam.capitalize())\n"
   ]
  },
  {
   "cell_type": "code",
   "execution_count": 20,
   "metadata": {},
   "outputs": [
    {
     "name": "stdout",
     "output_type": "stream",
     "text": [
      "re\n"
     ]
    }
   ],
   "source": [
    "# vraag de gerbuiker om een woord druk hiervan de eerste en laaste letter of\n",
    "\n",
    "\n",
    "woord1 = input('geef een woord')\n",
    "\n",
    "print (woord1[0] + woord1[-1])\n"
   ]
  },
  {
   "cell_type": "code",
   "execution_count": 25,
   "metadata": {},
   "outputs": [
    {
     "name": "stdout",
     "output_type": "stream",
     "text": [
      "mij\n",
      "bbe\n"
     ]
    }
   ],
   "source": [
    "#vraag de gebruiker om een tekst druk hiervan de eerste 3 en de laatste 3 leters af\n",
    "\n",
    "tekst1 = input('geef een tekst')\n",
    "\n",
    "print(tekst1[0:3])\n",
    "print(tekst1[-3:])"
   ]
  },
  {
   "cell_type": "code",
   "execution_count": 33,
   "metadata": {},
   "outputs": [
    {
     "name": "stdout",
     "output_type": "stream",
     "text": [
      "geen inhoud\n"
     ]
    }
   ],
   "source": [
    "#vraag de gerbuiker om een tekst te geven druk af als de leters a en t in deze tekst voorkomen\n",
    "\n",
    "tekst2 = input ('geef een tekst')\n",
    "\n",
    "if 'a' in tekst2 and 't' in tekst2:\n",
    "    print (tekst2)\n",
    "else:\n",
    "    print('geen inhoud')\n"
   ]
  },
  {
   "cell_type": "code",
   "execution_count": 36,
   "metadata": {},
   "outputs": [
    {
     "name": "stdout",
     "output_type": "stream",
     "text": [
      "['fanta cola water ']\n"
     ]
    }
   ],
   "source": [
    "#zet drie waarde in een lijst en print dit\n",
    "\n",
    "drinken=['fanta ''cola ''water ']\n",
    "\n",
    "print (drinken)"
   ]
  },
  {
   "cell_type": "code",
   "execution_count": 52,
   "metadata": {},
   "outputs": [
    {
     "name": "stdout",
     "output_type": "stream",
     "text": [
      "[5]\n",
      "[5, 9]\n",
      "[5, 7, 9]\n",
      "[5, 7, 9]\n"
     ]
    }
   ],
   "source": [
    "#vraag de gebruiker voor drie getalen en zet deze in een lijst indien het getal even is deel je dit door 2 en sorteer de lijst\n",
    "\n",
    "list = []\n",
    "\n",
    "while len(list) <=2:\n",
    "    getal = int(input())\n",
    "    list.append(getal)\n",
    "    lengte = len(list)\n",
    "    i=0\n",
    "    for i in range(len(list)):\n",
    "        if list[i] % 2 == 0:\n",
    "            list[i] = int(list[i]/2)\n",
    "            i+=1\n",
    "        else:\n",
    "            i+=1\n",
    "        if i == lengte:\n",
    "            list.sort()\n",
    "            print(list)\n",
    "\n",
    "print(list)"
   ]
  },
  {
   "cell_type": "code",
   "execution_count": 67,
   "metadata": {},
   "outputs": [
    {
     "name": "stdout",
     "output_type": "stream",
     "text": [
      "7\n",
      "6\n",
      "5\n",
      "4\n",
      "3\n",
      "2\n",
      "1\n",
      "0\n"
     ]
    }
   ],
   "source": [
    "#vraag de gebruiker om een getal tussen 1 en 10 in te gegeven druk alle voorgaande nummer af\n",
    "\n",
    "nummers = input ('geef me een getal tussen 1 en 10')\n",
    "\n",
    "lijstnummer = ['0','1','2','3','4','5','6','7','8','9','10']\n",
    "\n",
    "if nummers in lijstnummer:\n",
    "    i = int(nummers)\n",
    "    while i != 0:\n",
    "        i-=1\n",
    "        print(i)\n"
   ]
  },
  {
   "cell_type": "code",
   "execution_count": null,
   "metadata": {},
   "outputs": [],
   "source": [
    "#vraag de gebruiker om een getal tussen 1 en 60 in te geven druk alle cijfers af die je kan delen door 9\n",
    "\n",
    "nummer1 = int(input('geef mij een getal tussen 1 en 60'))\n",
    "\n",
    "i =0\n",
    "\n",
    "for i in range(nummer1):\n",
    "    if i %9==0:\n",
    "        print(i)\n",
    "        i+=1\n",
    "    else:\n",
    "        i+=1\n",
    "\n"
   ]
  },
  {
   "cell_type": "code",
   "execution_count": null,
   "metadata": {},
   "outputs": [],
   "source": [
    "#vraag de gebruiker om een tekst in te geven tel het aantal leters en cijfers en druk deze af\n",
    "\n",
    "vraag = input('geef mij een tekst\\n')\n",
    "\n",
    "aantal_leters =[]\n",
    "aantal_cijfers =[]\n",
    "\n"
   ]
  },
  {
   "cell_type": "code",
   "execution_count": 119,
   "metadata": {},
   "outputs": [
    {
     "data": {
      "text/plain": [
       "9"
      ]
     },
     "execution_count": 119,
     "metadata": {},
     "output_type": "execute_result"
    }
   ],
   "source": [
    "import random\n",
    "\n",
    "random.seed(101)\n",
    "random.randint(0,10)\n"
   ]
  },
  {
   "cell_type": "code",
   "execution_count": 137,
   "metadata": {},
   "outputs": [
    {
     "data": {
      "text/plain": [
       "0.5373280001172048"
      ]
     },
     "execution_count": 137,
     "metadata": {},
     "output_type": "execute_result"
    }
   ],
   "source": [
    "random.random()"
   ]
  },
  {
   "cell_type": "code",
   "execution_count": 147,
   "metadata": {},
   "outputs": [
    {
     "name": "stdout",
     "output_type": "stream",
     "text": [
      "[0, 4, 9]\n"
     ]
    }
   ],
   "source": [
    "l = [0, 2, 4, 8 ,9]\n",
    "\n",
    "print (random.sample(l, 3))"
   ]
  },
  {
   "cell_type": "code",
   "execution_count": 154,
   "metadata": {},
   "outputs": [
    {
     "name": "stdout",
     "output_type": "stream",
     "text": [
      "14\n"
     ]
    }
   ],
   "source": [
    "num = random.choice(range(10,100))\n",
    "\n",
    "print (num)"
   ]
  },
  {
   "cell_type": "code",
   "execution_count": null,
   "metadata": {},
   "outputs": [],
   "source": [
    "l = [0, 2, 4, 8 ,9]\n",
    "\n",
    "samples_with_replacement = random.choice(l = k3)\n",
    "print(samples_with_replacement)"
   ]
  },
  {
   "cell_type": "code",
   "execution_count": 231,
   "metadata": {},
   "outputs": [
    {
     "name": "stdout",
     "output_type": "stream",
     "text": [
      "6\n"
     ]
    }
   ],
   "source": [
    "#maak een dobbelsteen en gooi de dobbelsteen geef de gegooide waarde\n",
    "import random\n",
    "\n",
    "\n",
    "dobelsteen = random.choice(range(1,7))\n",
    "print (dobelsteen)"
   ]
  },
  {
   "cell_type": "code",
   "execution_count": null,
   "metadata": {},
   "outputs": [],
   "source": [
    "#maak een spel dat de gebruiker een getal tussen 1 en 20 moet raden als de gerbuiker een cijfer ingeeft dat dan krijgt hij een hint of hij hoger of lager moet raden \n",
    "#voeg ook een optie om te stoppen in\n",
    "\n",
    "getal5 = random.randint(1,20)\n",
    "print (getal5)\n",
    "tweedegetal = random.randint(1,20)\n",
    "print(tweedegetal)\n",
    "\n",
    "\n",
    "raadgetal = int(input('gaat het volgende getal hoger of lager zijn\\n'))\n",
    "\n",
    "if raadgetal <= tweedegetal:\n",
    "        print ('te laag geraden')\n",
    "elif raadgetal >= tweedegetal:\n",
    "        print ('te hoog geraden')\n",
    "elif raadgetal == tweedegetal:\n",
    "        print ('juist')\n",
    "\n",
    "\n",
    "\n",
    "\n",
    "\n",
    "\n"
   ]
  },
  {
   "cell_type": "code",
   "execution_count": 424,
   "metadata": {},
   "outputs": [
    {
     "name": "stdout",
     "output_type": "stream",
     "text": [
      "--------\n"
     ]
    }
   ],
   "source": [
    "#maak een lijst met steden in kies er en random 3 via random module op de index indien de index even is vervang je de naam door streepjes indien de index oneven is door steretjes\n",
    "#print de lijst af waarbij de vervanging is doorgegeven \n",
    "\n",
    "steden =[\"antwerpen\", \"brussel\", \"gent\", \"leuven\", \"brugge\", \"kortrijk\", \"bornem\", \"mechelen\"]\n",
    "keuze = []\n",
    "\n",
    "keuze_steden = random.choice(steden)\n",
    "keuze_steden2 = random.choice(steden)\n",
    "keuze_steden3 = random.choice(steden)\n",
    "\n",
    "test= random.choice(steden)\n",
    "if len(test) %2 == 0:\n",
    "    print('-'*len(test))\n",
    "elif len(test) %2 != 0:\n",
    "    print('*'*len(test))\n",
    "\n",
    "\n",
    "\n",
    "\n",
    "\n",
    "\n",
    "\n",
    "\n",
    "\n"
   ]
  },
  {
   "cell_type": "code",
   "execution_count": 381,
   "metadata": {},
   "outputs": [
    {
     "name": "stdout",
     "output_type": "stream",
     "text": [
      "0 ik\n",
      "1 jij\n",
      "2 jullie\n"
     ]
    }
   ],
   "source": [
    "lijst = ['ik', 'jij', 'jullie']\n",
    "\n",
    "for index, item in enumerate(lijst):\n",
    "    print (index, item)"
   ]
  }
 ],
 "metadata": {
  "kernelspec": {
   "display_name": "Python 3",
   "language": "python",
   "name": "python3"
  },
  "language_info": {
   "codemirror_mode": {
    "name": "ipython",
    "version": 3
   },
   "file_extension": ".py",
   "mimetype": "text/x-python",
   "name": "python",
   "nbconvert_exporter": "python",
   "pygments_lexer": "ipython3",
   "version": "3.11.5"
  }
 },
 "nbformat": 4,
 "nbformat_minor": 2
}
