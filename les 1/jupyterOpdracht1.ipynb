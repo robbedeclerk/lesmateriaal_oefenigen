{
 "cells": [
  {
   "cell_type": "markdown",
   "metadata": {},
   "source": [
    "maak via een if -elif-else statment een toepasing om iemand aan de hand van zijn leeftijd in een bepaalde catogerie te stoppen\n",
    "\n",
    "leeftijs < 2 is een baby\n",
    "tussen 2 en 4 een kleuter\n",
    "tussen 4 en 11 een kind\n",
    "tussen 11 en 18 een tiener\n",
    "vanaf 18 volwassen"
   ]
  },
  {
   "cell_type": "code",
   "execution_count": 3,
   "metadata": {},
   "outputs": [
    {
     "name": "stdout",
     "output_type": "stream",
     "text": [
      "je bent volwassen\n"
     ]
    }
   ],
   "source": [
    "leeftijd = int(input())\n",
    "if leeftijd <2:\n",
    "    boodschap = 'je bent een baby'\n",
    "elif leeftijd <4:\n",
    "    boodschap = 'je bent een kleuter'\n",
    "elif leeftijd <11:\n",
    "    boodschap = 'je bent een kind'\n",
    "elif leeftijd <18:\n",
    "    boodschap = 'je bent een tiener'\n",
    "else:\n",
    "    boodschap = 'je bent volwassen'\n",
    "\n",
    "print (boodschap)"
   ]
  },
  {
   "cell_type": "markdown",
   "metadata": {},
   "source": [
    "tel het aantal karakters in de zin zonder de ingebouwde len() te gerbuiken"
   ]
  },
  {
   "cell_type": "code",
   "execution_count": 4,
   "metadata": {},
   "outputs": [
    {
     "name": "stdout",
     "output_type": "stream",
     "text": [
      "1\n",
      "2\n",
      "3\n",
      "4\n",
      "5\n",
      "6\n",
      "7\n",
      "8\n",
      "9\n",
      "10\n",
      "11\n",
      "12\n",
      "13\n",
      "14\n",
      "15\n",
      "16\n",
      "17\n",
      "18\n",
      "19\n",
      "20\n",
      "21\n",
      "22\n"
     ]
    }
   ],
   "source": [
    "zin = input('geef een zin\\n')\n",
    "\n",
    "aantal = 0\n",
    "\n",
    "for i in zin:\n",
    "    i=0\n",
    "    i+=1\n",
    "    if 1 == '':\n",
    "        i+=1\n",
    "    else:\n",
    "        aantal+=1\n",
    "        print(aantal)"
   ]
  },
  {
   "cell_type": "markdown",
   "metadata": {},
   "source": [
    "maak een eenvoudig raadspel waarbij je een input van een getal tussen nul en 10 vraagt vergelijk dit et een random nummer dat je hebt gekozen \n",
    "via de rand module \n",
    "geef feedback aan de gebruiker of hij hoger of lager moet raden run dit in de cmd"
   ]
  },
  {
   "cell_type": "code",
   "execution_count": 7,
   "metadata": {},
   "outputs": [
    {
     "name": "stdout",
     "output_type": "stream",
     "text": [
      "9\n",
      "fout\n",
      "8\n"
     ]
    }
   ],
   "source": [
    "import random\n",
    "\n",
    "getal1 = random.randint(0,13)\n",
    "print(getal1)\n",
    "\n",
    "\n",
    "getal = random.randint(0,13)\n",
    "hogerlager = input(\"Gaat het volgende getal hoger of lager zijn? y/n\\n\")\n",
    "\n",
    "if hogerlager == 'y' and getal > getal1:\n",
    "    print('correct')\n",
    "\n",
    "elif hogerlager == 'y' and getal< getal1:\n",
    "    print('fout')\n",
    "\n",
    "elif hogerlager == 'n' and getal > getal1:\n",
    "    print('fout')\n",
    "\n",
    "elif hogerlager == 'n' and getal< getal1:\n",
    "    print('correct')\n",
    "print (getal)\n",
    "\n"
   ]
  },
  {
   "cell_type": "markdown",
   "metadata": {},
   "source": [
    "#maak een list met de volgende kleuren: rood groen blauw geel orangje\n",
    "#kies een willikeurige kleur via randon module\n",
    "#vraag de gebruiker een kleeur te raden en geef aan of hij de juist is"
   ]
  },
  {
   "cell_type": "code",
   "execution_count": 1,
   "metadata": {},
   "outputs": [
    {
     "name": "stdout",
     "output_type": "stream",
     "text": [
      "0\n",
      "rood = 0\n",
      "groen = 1\n",
      "blauw = 2\n",
      "geel = 3\n",
      "orangje = 4\n"
     ]
    }
   ],
   "source": [
    "import random\n",
    "\n",
    "\n",
    "kleur = random.randint(0,4,)\n",
    "\n",
    "print (kleur)\n",
    "\n",
    "print(\"rood = 0\")\n",
    "print('groen = 1')\n",
    "print('blauw = 2')\n",
    "print('geel = 3')\n",
    "print('orangje = 4')\n",
    "kleur1 = int(input(\"kies een kleur\\n\"))\n",
    "\n",
    "while int(kleur1) != kleur :\n",
    "    print('fout')\n",
    "    kleur1 = int(input(\"kies een kleur\\n\"))\n",
    "    if int(kleur1) == kleur :\n",
    "        print ('goed geraden')\n"
   ]
  },
  {
   "cell_type": "markdown",
   "metadata": {},
   "source": [
    "#de faculteit van een getal n is gelijk aan n maal (n-1) maal (n-2) maal .... maal 1 maak een functie om de faculteit van een getal te berekenen "
   ]
  },
  {
   "cell_type": "code",
   "execution_count": 6,
   "metadata": {},
   "outputs": [
    {
     "ename": "ValueError",
     "evalue": "invalid literal for int() with base 10: 'getal 1\\n'",
     "output_type": "error",
     "traceback": [
      "\u001b[1;31m---------------------------------------------------------------------------\u001b[0m",
      "\u001b[1;31mValueError\u001b[0m                                Traceback (most recent call last)",
      "\u001b[1;32mc:\\Users\\robbe\\OneDrive\\Documenten\\school\\syntra\\oefeningen\\jupyterOpdracht1.ipynb Cell 10\u001b[0m line \u001b[0;36m1\n\u001b[1;32m----> <a href='vscode-notebook-cell:/c%3A/Users/robbe/OneDrive/Documenten/school/syntra/oefeningen/jupyterOpdracht1.ipynb#X12sZmlsZQ%3D%3D?line=0'>1</a>\u001b[0m getal\u001b[39m=\u001b[39m \u001b[39minput\u001b[39m (\u001b[39mint\u001b[39;49m(\u001b[39m\"\u001b[39;49m\u001b[39mgetal 1\u001b[39;49m\u001b[39m\\n\u001b[39;49;00m\u001b[39m\"\u001b[39;49m))\n\u001b[0;32m      <a href='vscode-notebook-cell:/c%3A/Users/robbe/OneDrive/Documenten/school/syntra/oefeningen/jupyterOpdracht1.ipynb#X12sZmlsZQ%3D%3D?line=1'>2</a>\u001b[0m getal2\u001b[39m=\u001b[39m \u001b[39minput\u001b[39m (\u001b[39mint\u001b[39m(\u001b[39m\"\u001b[39m\u001b[39mgetal 2\u001b[39m\u001b[39m\\n\u001b[39;00m\u001b[39m\"\u001b[39m))\n\u001b[0;32m      <a href='vscode-notebook-cell:/c%3A/Users/robbe/OneDrive/Documenten/school/syntra/oefeningen/jupyterOpdracht1.ipynb#X12sZmlsZQ%3D%3D?line=3'>4</a>\u001b[0m getal3 \u001b[39m=\u001b[39m\u001b[39mint\u001b[39m(getal \u001b[39m*\u001b[39m getal2)\n",
      "\u001b[1;31mValueError\u001b[0m: invalid literal for int() with base 10: 'getal 1\\n'"
     ]
    }
   ],
   "source": [
    "getal= input (\"getal 1\\n\")\n",
    "getal2= input (\"getal 2\\n\")\n",
    "\n",
    "getal3 =(getal * getal2)\n",
    "\n",
    "print (getal3)"
   ]
  },
  {
   "cell_type": "markdown",
   "metadata": {},
   "source": [
    "#maak een lege lijst om nummers in te plaatsen. vraag via input aan de gebruiker 5 numers bereken het gemidelde van de numers en print dit"
   ]
  },
  {
   "cell_type": "code",
   "execution_count": null,
   "metadata": {},
   "outputs": [],
   "source": []
  }
 ],
 "metadata": {
  "kernelspec": {
   "display_name": "Python 3",
   "language": "python",
   "name": "python3"
  },
  "language_info": {
   "codemirror_mode": {
    "name": "ipython",
    "version": 3
   },
   "file_extension": ".py",
   "mimetype": "text/x-python",
   "name": "python",
   "nbconvert_exporter": "python",
   "pygments_lexer": "ipython3",
   "version": "3.11.5"
  },
  "orig_nbformat": 4
 },
 "nbformat": 4,
 "nbformat_minor": 2
}
