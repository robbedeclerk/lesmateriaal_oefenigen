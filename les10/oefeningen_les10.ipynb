{
 "cells": [
  {
   "cell_type": "code",
   "execution_count": 7,
   "metadata": {},
   "outputs": [
    {
     "name": "stdout",
     "output_type": "stream",
     "text": [
      "eucalyptus heeft water gekregen\n"
     ]
    }
   ],
   "source": [
    "class plant:\n",
    "    def __init__(self, naam, kleur, bewatering, frequentie):\n",
    "        self.naam= naam\n",
    "        self.kleur= kleur\n",
    "        self.bewatering= bewatering\n",
    "        self.frequentie= frequentie\n",
    "    def bewateren(self):\n",
    "        print(f'{self.naam} heeft water gekregen')\n",
    "\n",
    "\n",
    "eucalyptus=plant('eucalyptus', 'groen', 'weinig', 'weekelijks')\n",
    "eucalyptus.kleur\n",
    "eucalyptus.bewateren()"
   ]
  },
  {
   "cell_type": "code",
   "execution_count": 17,
   "metadata": {},
   "outputs": [
    {
     "name": "stdout",
     "output_type": "stream",
     "text": [
      "{'voornaam': 'robbe', 'familienaam': 'de clerck', 'leeftijd': '25'}\n"
     ]
    }
   ],
   "source": [
    "class persoon:\n",
    "    def __init__(self,voornaam,familienaam,leeftijd):\n",
    "        self.voornaam=voornaam\n",
    "        self.familienaam=familienaam\n",
    "        self.leeftijd=leeftijd\n",
    "\n",
    "p1=persoon('robbe', 'de clerck', '25')\n",
    "\n",
    "print (p1.__dict__)"
   ]
  },
  {
   "cell_type": "code",
   "execution_count": 16,
   "metadata": {},
   "outputs": [
    {
     "name": "stdout",
     "output_type": "stream",
     "text": [
      "je moet jou twee laaste autos ingeven\n",
      "je moet jou tweede auto ingeven\n",
      "{'kleur': 'groen', 'merk': 'bnw', 'nummerplaat': 'bhgug'} {'kleur': 'blauw', 'merk': 'mercedis', 'nummerplaat': 'hjvjgvgu'}\n"
     ]
    }
   ],
   "source": [
    "class car:\n",
    "    def __init__(self,kleur,merk,nummerplaat):\n",
    "        self.kleur=kleur\n",
    "        self.merk=merk\n",
    "        self.nummerplaat=nummerplaat\n",
    "\n",
    "def main():\n",
    "    print('je moet jou twee laaste autos ingeven')\n",
    "    kleur = input('wat was de kleur')\n",
    "    merk = input('wat was het merk')\n",
    "    nummerplaat= input('wat was jou nummer plaat')\n",
    "    car1=car(kleur,merk,nummerplaat)\n",
    "    print('je moet jou tweede auto ingeven')\n",
    "    kleur2 = input('wat was de kleur')\n",
    "    merk2 = input('wat was het merk')\n",
    "    nummerplaat2 = input('wat was jou nummer plaat')\n",
    "    car2=car(kleur2,merk2,nummerplaat2)\n",
    "    print(car1.__dict__,car2.__dict__)\n",
    "\n",
    "\n",
    "main()"
   ]
  },
  {
   "cell_type": "code",
   "execution_count": 24,
   "metadata": {},
   "outputs": [
    {
     "ename": "UnboundLocalError",
     "evalue": "cannot access local variable 'naam' where it is not associated with a value",
     "output_type": "error",
     "traceback": [
      "\u001b[1;31m---------------------------------------------------------------------------\u001b[0m",
      "\u001b[1;31mUnboundLocalError\u001b[0m                         Traceback (most recent call last)",
      "\u001b[1;32mc:\\Users\\robbe\\OneDrive\\Documenten\\schoolwerk\\les10\\oefeningen_les10.ipynb Cell 4\u001b[0m line \u001b[0;36m1\n\u001b[0;32m     <a href='vscode-notebook-cell:/c%3A/Users/robbe/OneDrive/Documenten/schoolwerk/les10/oefeningen_les10.ipynb#W3sZmlsZQ%3D%3D?line=14'>15</a>\u001b[0m         \u001b[39mprint\u001b[39m(\u001b[39m'\u001b[39m\u001b[39mgeef ja of nee in AUB\u001b[39m\u001b[39m'\u001b[39m)\n\u001b[0;32m     <a href='vscode-notebook-cell:/c%3A/Users/robbe/OneDrive/Documenten/schoolwerk/les10/oefeningen_les10.ipynb#W3sZmlsZQ%3D%3D?line=15'>16</a>\u001b[0m         \u001b[39mreturn\u001b[39;00m main()\n\u001b[1;32m---> <a href='vscode-notebook-cell:/c%3A/Users/robbe/OneDrive/Documenten/schoolwerk/les10/oefeningen_les10.ipynb#W3sZmlsZQ%3D%3D?line=18'>19</a>\u001b[0m main()\n",
      "\u001b[1;32mc:\\Users\\robbe\\OneDrive\\Documenten\\schoolwerk\\les10\\oefeningen_les10.ipynb Cell 4\u001b[0m line \u001b[0;36m1\n\u001b[0;32m      <a href='vscode-notebook-cell:/c%3A/Users/robbe/OneDrive/Documenten/schoolwerk/les10/oefeningen_les10.ipynb#W3sZmlsZQ%3D%3D?line=8'>9</a>\u001b[0m     richting\u001b[39m=\u001b[39m \u001b[39minput\u001b[39m(\u001b[39m'\u001b[39m\u001b[39mwat is jou richting\u001b[39m\u001b[39m'\u001b[39m)\n\u001b[0;32m     <a href='vscode-notebook-cell:/c%3A/Users/robbe/OneDrive/Documenten/schoolwerk/les10/oefeningen_les10.ipynb#W3sZmlsZQ%3D%3D?line=9'>10</a>\u001b[0m     naam\u001b[39m=\u001b[39mstudent(richting)\n\u001b[1;32m---> <a href='vscode-notebook-cell:/c%3A/Users/robbe/OneDrive/Documenten/schoolwerk/les10/oefeningen_les10.ipynb#W3sZmlsZQ%3D%3D?line=10'>11</a>\u001b[0m     \u001b[39mreturn\u001b[39;00m main()\n\u001b[0;32m     <a href='vscode-notebook-cell:/c%3A/Users/robbe/OneDrive/Documenten/schoolwerk/les10/oefeningen_les10.ipynb#W3sZmlsZQ%3D%3D?line=11'>12</a>\u001b[0m \u001b[39mif\u001b[39;00m x \u001b[39m==\u001b[39m\u001b[39m'\u001b[39m\u001b[39mnee\u001b[39m\u001b[39m'\u001b[39m:\n\u001b[0;32m     <a href='vscode-notebook-cell:/c%3A/Users/robbe/OneDrive/Documenten/schoolwerk/les10/oefeningen_les10.ipynb#W3sZmlsZQ%3D%3D?line=12'>13</a>\u001b[0m     \u001b[39mreturn\u001b[39;00m (naam\u001b[39m.\u001b[39m\u001b[39m__dict__\u001b[39m)\n",
      "\u001b[1;32mc:\\Users\\robbe\\OneDrive\\Documenten\\schoolwerk\\les10\\oefeningen_les10.ipynb Cell 4\u001b[0m line \u001b[0;36m1\n\u001b[0;32m     <a href='vscode-notebook-cell:/c%3A/Users/robbe/OneDrive/Documenten/schoolwerk/les10/oefeningen_les10.ipynb#W3sZmlsZQ%3D%3D?line=10'>11</a>\u001b[0m     \u001b[39mreturn\u001b[39;00m main()\n\u001b[0;32m     <a href='vscode-notebook-cell:/c%3A/Users/robbe/OneDrive/Documenten/schoolwerk/les10/oefeningen_les10.ipynb#W3sZmlsZQ%3D%3D?line=11'>12</a>\u001b[0m \u001b[39mif\u001b[39;00m x \u001b[39m==\u001b[39m\u001b[39m'\u001b[39m\u001b[39mnee\u001b[39m\u001b[39m'\u001b[39m:\n\u001b[1;32m---> <a href='vscode-notebook-cell:/c%3A/Users/robbe/OneDrive/Documenten/schoolwerk/les10/oefeningen_les10.ipynb#W3sZmlsZQ%3D%3D?line=12'>13</a>\u001b[0m     \u001b[39mreturn\u001b[39;00m (naam\u001b[39m.\u001b[39m\u001b[39m__dict__\u001b[39m)\n\u001b[0;32m     <a href='vscode-notebook-cell:/c%3A/Users/robbe/OneDrive/Documenten/schoolwerk/les10/oefeningen_les10.ipynb#W3sZmlsZQ%3D%3D?line=13'>14</a>\u001b[0m \u001b[39melse\u001b[39;00m:\n\u001b[0;32m     <a href='vscode-notebook-cell:/c%3A/Users/robbe/OneDrive/Documenten/schoolwerk/les10/oefeningen_les10.ipynb#W3sZmlsZQ%3D%3D?line=14'>15</a>\u001b[0m     \u001b[39mprint\u001b[39m(\u001b[39m'\u001b[39m\u001b[39mgeef ja of nee in AUB\u001b[39m\u001b[39m'\u001b[39m)\n",
      "\u001b[1;31mUnboundLocalError\u001b[0m: cannot access local variable 'naam' where it is not associated with a value"
     ]
    }
   ],
   "source": [
    "class student:\n",
    "    def __init__(self,richting):\n",
    "        self.richting=richting\n",
    "\n",
    "def main():\n",
    "    x=input('wil je een student toevoegen ja/nee\\n')\n",
    "    if x == 'ja':\n",
    "        naam=input('wat is de naam van de student?\\n')\n",
    "        richting= input('wat is jou richting')\n",
    "        naam=student(richting)\n",
    "        return main()\n",
    "    if x =='nee':\n",
    "        return (naam.__dict__)\n",
    "    else:\n",
    "        print('geef ja of nee in AUB')\n",
    "        return main()\n",
    "\n",
    "\n",
    "main()"
   ]
  },
  {
   "cell_type": "code",
   "execution_count": 38,
   "metadata": {},
   "outputs": [
    {
     "name": "stdout",
     "output_type": "stream",
     "text": [
      "{'maal': 16, 'gedeelt': 0.25, 'plus': 10, 'min': -6}\n"
     ]
    }
   ],
   "source": [
    "class getallen:\n",
    "    def __init__(self,maal,gedeelt,plus,min):\n",
    "        self.maal=maal\n",
    "        self.gedeelt=gedeelt\n",
    "        self.plus=plus\n",
    "        self.min=min\n",
    "\n",
    "def formule(x,y):\n",
    "    a=x*y\n",
    "    b=x/y\n",
    "    c=x+y\n",
    "    d=x-y\n",
    "    uitkomt=getallen(a,b,c,d)\n",
    "    print(uitkomt.__dict__)\n",
    "\n",
    "formule(2,8)\n"
   ]
  },
  {
   "cell_type": "code",
   "execution_count": 39,
   "metadata": {},
   "outputs": [
    {
     "name": "stdout",
     "output_type": "stream",
     "text": [
      "{'opervlakte': 450, 'volume': 1800}\n"
     ]
    }
   ],
   "source": [
    "class kamer:\n",
    "    def __init__(self,opervlakte,volume):\n",
    "        self.opervlakte=opervlakte\n",
    "        self.volume=volume\n",
    "\n",
    "\n",
    "def berekening(a,b,c):\n",
    "    x=a*b\n",
    "    y=a*b*c\n",
    "    kamer1=kamer(x,y)\n",
    "    print (kamer1.__dict__)\n",
    "\n",
    "\n",
    "berekening(15,30,4)"
   ]
  },
  {
   "cell_type": "markdown",
   "metadata": {},
   "source": [
    "bla"
   ]
  },
  {
   "cell_type": "code",
   "execution_count": 44,
   "metadata": {},
   "outputs": [
    {
     "name": "stdout",
     "output_type": "stream",
     "text": [
      "uw naam is robbede clerck en u bent 25 jaar oud. u bent geboren op 24/12/1998 in bergen op zoom\n"
     ]
    }
   ],
   "source": [
    "class info:\n",
    "    def __init__(self,voornaam,familienaam,geboortedatum,geboorteplaats,leeftijd):\n",
    "        self.voornaam=voornaam\n",
    "        self.familienaam=familienaam\n",
    "        self.geboortedatum=geboortedatum\n",
    "        self.geboorteplaats=geboorteplaats\n",
    "        self.leeftijd=leeftijd\n",
    "\n",
    "\n",
    "def main():\n",
    "    a= input('wat is jou naam\\n')\n",
    "    b=input('wat is jou familienaam\\n')\n",
    "    c=input('wat is jou geboortedatum\\n')\n",
    "    d=input('wat is jou geboorteplaats\\n')\n",
    "    e=input('wat is jou leeftijd\\n')\n",
    "    person1=info(a,b,c,d,e)\n",
    "    print(f'uw naam is {person1.voornaam}{person1.familienaam} en u bent {person1.leeftijd} jaar oud. u bent geboren op {person1.geboortedatum} in {person1.geboorteplaats}')\n",
    "\n",
    "main()"
   ]
  },
  {
   "cell_type": "code",
   "execution_count": 47,
   "metadata": {},
   "outputs": [],
   "source": [
    "info={'antwerpen':{'hoge akker':{'7':{'5 bewoners'}},\n",
    "                    'bethanielei':{'2':{'2 bewooners'}}}}\n",
    "\n"
   ]
  },
  {
   "cell_type": "code",
   "execution_count": 4,
   "metadata": {},
   "outputs": [
    {
     "name": "stdout",
     "output_type": "stream",
     "text": [
      "[<__main__.Car object at 0x0000014CE2E38A50>, <__main__.Car object at 0x0000014CE016EAD0>]\n"
     ]
    },
    {
     "ename": "TypeError",
     "evalue": "'<' not supported between instances of 'Car' and 'Car'",
     "output_type": "error",
     "traceback": [
      "\u001b[1;31m---------------------------------------------------------------------------\u001b[0m",
      "\u001b[1;31mTypeError\u001b[0m                                 Traceback (most recent call last)",
      "\u001b[1;32mc:\\Users\\robbe\\OneDrive\\Documenten\\schoolwerk\\les10\\oefeningen_les10.ipynb Cell 10\u001b[0m line \u001b[0;36m2\n\u001b[0;32m     <a href='vscode-notebook-cell:/c%3A/Users/robbe/OneDrive/Documenten/schoolwerk/les10/oefeningen_les10.ipynb#X12sZmlsZQ%3D%3D?line=23'>24</a>\u001b[0m         \u001b[39mreturn\u001b[39;00m main()\n\u001b[0;32m     <a href='vscode-notebook-cell:/c%3A/Users/robbe/OneDrive/Documenten/schoolwerk/les10/oefeningen_les10.ipynb#X12sZmlsZQ%3D%3D?line=27'>28</a>\u001b[0m main()\n\u001b[1;32m---> <a href='vscode-notebook-cell:/c%3A/Users/robbe/OneDrive/Documenten/schoolwerk/les10/oefeningen_les10.ipynb#X12sZmlsZQ%3D%3D?line=28'>29</a>\u001b[0m autolijst\u001b[39m.\u001b[39;49msort()\n\u001b[0;32m     <a href='vscode-notebook-cell:/c%3A/Users/robbe/OneDrive/Documenten/schoolwerk/les10/oefeningen_les10.ipynb#X12sZmlsZQ%3D%3D?line=29'>30</a>\u001b[0m \u001b[39mprint\u001b[39m (autolijst)\n",
      "\u001b[1;31mTypeError\u001b[0m: '<' not supported between instances of 'Car' and 'Car'"
     ]
    }
   ],
   "source": [
    "class Car:\n",
    "    def __init__(self,aankoopjaar,prijs,merk,model):\n",
    "        self.aankoopjaar=aankoopjaar\n",
    "        self.prijs=prijs\n",
    "        self.merk=merk\n",
    "        self.model=model\n",
    "\n",
    "\n",
    "autolijst=[]\n",
    "def main():\n",
    "    x= input('wil je een auto toevoegen ja of nee?\\n')\n",
    "    if x=='ja':\n",
    "        a=input('wat is het aankoop jaar\\n')\n",
    "        b=input('wat is de prijs\\n')\n",
    "        c=input('wat is het merk\\n')\n",
    "        d=input('wat is het model\\n')\n",
    "        auto=Car(a,b,c,d)\n",
    "        autolijst.append(auto)\n",
    "        return main()\n",
    "    if x=='nee':\n",
    "        print (autolijst)\n",
    "    else:\n",
    "        print('gelieve ja of nee in te voeren')\n",
    "        return main()\n",
    "\n",
    "\n",
    "\n",
    "main()\n",
    "autolijst.sort()\n",
    "print (autolijst)"
   ]
  },
  {
   "cell_type": "code",
   "execution_count": null,
   "metadata": {},
   "outputs": [],
   "source": []
  }
 ],
 "metadata": {
  "kernelspec": {
   "display_name": "Python 3",
   "language": "python",
   "name": "python3"
  },
  "language_info": {
   "codemirror_mode": {
    "name": "ipython",
    "version": 3
   },
   "file_extension": ".py",
   "mimetype": "text/x-python",
   "name": "python",
   "nbconvert_exporter": "python",
   "pygments_lexer": "ipython3",
   "version": "3.11.5"
  }
 },
 "nbformat": 4,
 "nbformat_minor": 2
}
