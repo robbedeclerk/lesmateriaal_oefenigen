{
 "cells": [
  {
   "cell_type": "code",
   "execution_count": 17,
   "metadata": {},
   "outputs": [
    {
     "data": {
      "text/plain": [
       "'u saldo is 20'"
      ]
     },
     "execution_count": 17,
     "metadata": {},
     "output_type": "execute_result"
    }
   ],
   "source": [
    "class bankrekening:\n",
    "    def __init__(self, saldo, rekeningnummer):\n",
    "        self._saldo=saldo\n",
    "        self._rekeningnummer=rekeningnummer\n",
    "    \n",
    "    def get_rekeningnummer(self):\n",
    "        return self._rekeningnummer\n",
    "    \n",
    "    def get_saldo(self):\n",
    "        return self._saldo\n",
    "    \n",
    "    def set_saldo(self,value):\n",
    "        saldo=value\n",
    "        if saldo <=0:\n",
    "            return ('saldo is ontoerijkbaar')\n",
    "        else:\n",
    "            return (f'u saldo is {value}')\n",
    "\n",
    "\n",
    "robbe=bankrekening(20,'be25423562145')\n",
    "\n",
    "robbe.get_rekeningnummer()\n",
    "x=robbe.get_saldo()\n",
    "robbe.set_saldo(x)"
   ]
  },
  {
   "cell_type": "code",
   "execution_count": 21,
   "metadata": {},
   "outputs": [
    {
     "data": {
      "text/plain": [
       "2000"
      ]
     },
     "execution_count": 21,
     "metadata": {},
     "output_type": "execute_result"
    }
   ],
   "source": [
    "class personeelslid:\n",
    "    def __init__(self,naam,positie,salaris):\n",
    "        self.__naam=naam\n",
    "        self.__positie=positie\n",
    "        self.__salaris=salaris\n",
    "    @property\n",
    "    def naam(self):\n",
    "        return self.__naam\n",
    "    @property\n",
    "    def positie(self):\n",
    "        return self.__positie\n",
    "    @property\n",
    "    def salaris(self):\n",
    "        return self.__salaris\n",
    "    \n",
    "    @positie.setter\n",
    "    def positie(self,new_position):\n",
    "        self.__positie=new_position\n",
    "    \n",
    "    @salaris.setter\n",
    "    def salaris(self,new_salaris):\n",
    "        minimunloon=1500\n",
    "        if minimunloon<new_salaris:\n",
    "            self.__salaris = new_salaris\n",
    "        else:\n",
    "            raise ValueError(f'salaris moet hoger zijn dan{minimunloon}')\n",
    "\n",
    "\n",
    "robbe= personeelslid('robbe', 'gamer', 2000)\n",
    "robbe.salaris\n"
   ]
  },
  {
   "cell_type": "code",
   "execution_count": null,
   "metadata": {},
   "outputs": [],
   "source": [
    "class temperatuur:\n",
    "    def __init__(self,temperatuur):\n",
    "        self.__temperatuur= temperatuur\n",
    "    "
   ]
  },
  {
   "cell_type": "code",
   "execution_count": 22,
   "metadata": {},
   "outputs": [
    {
     "name": "stdout",
     "output_type": "stream",
     "text": [
      "[<class '__main__.d'>, <class '__main__.b'>, <class '__main__.c'>, <class '__main__.a'>, <class 'object'>]\n"
     ]
    }
   ],
   "source": [
    "class a: pass\n",
    "class b(a): pass\n",
    "class c(a):pass\n",
    "class d(b,c):pass\n",
    "print(d.mro())"
   ]
  },
  {
   "cell_type": "code",
   "execution_count": null,
   "metadata": {},
   "outputs": [],
   "source": [
    "class Vehicle:\n",
    "    def __init__(self,merk,prijs):\n",
    "        self.merk = merk\n",
    "        self.prijs = prijs\n",
    "\n",
    "class car(Vehicle):\n",
    "    def __init__(self,model):\n",
    "        self.model= model\n",
    "\n",
    "class electric_car(car):\n",
    "    def __init__(self,elechtriche_moter):\n",
    "        self.elechtriche_moter=elechtriche_moter\n",
    "\n"
   ]
  },
  {
   "cell_type": "code",
   "execution_count": null,
   "metadata": {},
   "outputs": [],
   "source": [
    "class diamond:\n",
    "    def __init__(self,groote):\n",
    "        self.groote=groote\n",
    "\n",
    "\n",
    "class daimond_prijs(daimond):\n",
    "    def __init__(self,prijs):\n",
    "        self.prijs=prijs\n",
    "\n",
    "class daimond_vorm(daimond):\n",
    "    def __init__(self,vorm):\n",
    "        self.vorm=vorm\n",
    "\n",
    "class daimond_grade(daimond_prijs,daimond_vorm):\n",
    "    def __init__(self,grade):\n",
    "        self.grade=grade"
   ]
  },
  {
   "cell_type": "code",
   "execution_count": 24,
   "metadata": {},
   "outputs": [],
   "source": [
    "class boat:\n",
    "    def __init__(self,kleur,gewicht,snelheid):\n",
    "        self.kleur=kleur\n",
    "        self.geicht=gewicht\n",
    "        self.snelheid=snelheid\n",
    "\n",
    "class plane:\n",
    "    def __init__(self,kleur,gewicht,snelheid):\n",
    "        self.kleur=kleur\n",
    "        self.geicht=gewicht\n",
    "        self.snelheid=snelheid\n",
    "\n",
    "\n",
    "class amphidiousVehicle(boat,plane):\n",
    "        def __init__(self,price):\n",
    "            self.price=price"
   ]
  },
  {
   "cell_type": "code",
   "execution_count": 33,
   "metadata": {},
   "outputs": [],
   "source": [
    "import math\n",
    "\n",
    "vorm=[]\n",
    "\n",
    "class basis_shape:\n",
    "    def __init__(self,vorm):\n",
    "        self.vorm=vorm\n",
    "    vorm = NotImplementedError\n",
    "\n",
    "\n",
    "class circel(basis_shape):\n",
    "    vorm='circel'\n",
    "    def __init__(self,value1):\n",
    "        self.value1=value1\n",
    "\n",
    "\n",
    "\n",
    "\n",
    "class vierkant(basis_shape):\n",
    "    vorm='vierkant'\n",
    "    def __init__(self,value1,value2):\n",
    "        self.value1=value1\n",
    "        self.value2=value2\n",
    "\n",
    "\n",
    "\n",
    "def main():\n",
    "    x=input('wil je een vorm toevoegen ja/nee?\\n')\n",
    "    if x =='ja':\n",
    "        y=input('welke vorm wil je toevoegen circel of een vierkant?\\n')\n",
    "        if y == 'circel':\n",
    "            value1=int(input('xat is de straal van de circle\\n'))\n",
    "            vorm.append(circel(value1))\n",
    "        elif y== 'vierkant':\n",
    "            value1=int(input('wat is de lengte van de vierkant\\n'))\n",
    "            value2=int(input('wat is de breete van de vierkant'))\n",
    "            vorm.append(vierkant(value1,value2))\n",
    "        else:\n",
    "            print('deze vorm ken ik niet probeer opnieuw\\n')\n",
    "            return main()\n",
    "    elif x =='nee':\n",
    "        print ('oke ik stop')\n",
    "    else:\n",
    "        print ('dit antwoord ken ik niet probeer opnieuw\\n')\n",
    "        return main()\n",
    "\n",
    "def uitrekenen(a):\n",
    "    for item in a:\n",
    "        if item == vierkant:\n",
    "            opervlakte = value1*value2\n",
    "            print(f'je opervlakte is {opervlakte}')\n",
    "        elif item == circel:\n",
    "            opervlakte= value1**2*math.pi\n",
    "            print(f'je opervlakte is {opervlakte}')\n",
    "\n",
    "\n",
    "main()\n",
    "uitrekenen(vorm)"
   ]
  }
 ],
 "metadata": {
  "kernelspec": {
   "display_name": "Python 3",
   "language": "python",
   "name": "python3"
  },
  "language_info": {
   "codemirror_mode": {
    "name": "ipython",
    "version": 3
   },
   "file_extension": ".py",
   "mimetype": "text/x-python",
   "name": "python",
   "nbconvert_exporter": "python",
   "pygments_lexer": "ipython3",
   "version": "3.11.5"
  }
 },
 "nbformat": 4,
 "nbformat_minor": 2
}
