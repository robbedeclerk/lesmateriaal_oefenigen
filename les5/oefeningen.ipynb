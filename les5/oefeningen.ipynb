{
 "cells": [
  {
   "cell_type": "markdown",
   "metadata": {},
   "source": [
    "vraag de gebruiker 5 maal om een getal tussen 1 en 10 hou deze bij in een lijst na ingave toon al de getallen klijner dan het ingegeven getal die deelbaar zijn door 3 en druk op het einde de lijst af van de ingegeven getalen"
   ]
  },
  {
   "cell_type": "code",
   "execution_count": 10,
   "metadata": {},
   "outputs": [
    {
     "name": "stdout",
     "output_type": "stream",
     "text": [
      "3\n",
      "3\n",
      "3\n",
      "6\n",
      "3\n",
      "3\n",
      "6\n",
      "3\n",
      "3\n",
      "3\n",
      "6\n",
      "3\n",
      "3\n",
      "[3, 5, 7, 5, 4]\n"
     ]
    }
   ],
   "source": [
    "lijstgetal = []\n",
    "\n",
    "while len(lijstgetal) <=4:\n",
    "    getal = int(input(\"geef een getal tuusen 1 en 10\\n\"))\n",
    "    lijstgetal.append(getal)\n",
    "    lengte = len(lijstgetal)\n",
    "\n",
    "    for getal in lijstgetal:\n",
    "        for i in range(1,getal):\n",
    "            if i %3 == 0:\n",
    "                print (i)\n",
    "print (lijstgetal)\n",
    "\n"
   ]
  },
  {
   "cell_type": "code",
   "execution_count": 50,
   "metadata": {},
   "outputs": [
    {
     "name": "stdout",
     "output_type": "stream",
     "text": [
      "*\n",
      "**\n",
      "***\n",
      "****\n",
      "*****\n",
      "******\n",
      "*****\n",
      "****\n",
      "***\n",
      "**\n",
      "*\n"
     ]
    }
   ],
   "source": [
    "aantal_sterren = 6\n",
    "\n",
    "for i in range(1,aantal_sterren+1):\n",
    "    if i < aantal_sterren:\n",
    "        print(i*'*')\n",
    "    else:\n",
    "        for j in range(aantal_sterren):\n",
    "            print((aantal_sterren -j)*\"*\")"
   ]
  },
  {
   "cell_type": "code",
   "execution_count": 71,
   "metadata": {},
   "outputs": [
    {
     "name": "stdout",
     "output_type": "stream",
     "text": [
      "\n",
      "1\n",
      "22\n",
      "333\n",
      "4444\n",
      "55555\n",
      "666666\n",
      "7777777\n",
      "88888888\n",
      "999999999\n"
     ]
    }
   ],
   "source": [
    "for i in range(10):\n",
    "    for j in range(i):\n",
    "        print(i, end='')\n",
    "    print()"
   ]
  },
  {
   "cell_type": "code",
   "execution_count": 99,
   "metadata": {},
   "outputs": [
    {
     "name": "stdout",
     "output_type": "stream",
     "text": [
      "1\t2\t3\t4\t5\t\n",
      "6\t7\t8\t9\t10\t\n",
      "11\t12\t13\t14\t15\t\n",
      "16\t17\t18\t19\t20\t\n",
      "21\t22\t23\t24\t25\t\n",
      "26\t27\t28\t29\t30\t\n",
      "31\t32\t33\t34\t35\t\n",
      "36\t37\t38\t39\t40\t\n",
      "41\t42\t43\t44\t45\t\n"
     ]
    }
   ],
   "source": [
    "totaal = 45\n",
    "aantal_per_rij = 5\n",
    "\n",
    "lottonummer =1\n",
    "\n",
    "for rij in range(int(totaal/aantal_per_rij)):\n",
    "    for kolom in range(aantal_per_rij):\n",
    "        print(lottonummer, end =\"\\t\")\n",
    "        lottonummer +=1\n",
    "    print()"
   ]
  },
  {
   "cell_type": "code",
   "execution_count": 98,
   "metadata": {},
   "outputs": [
    {
     "name": "stdout",
     "output_type": "stream",
     "text": [
      "1\t2\t3\t4\t5\t\n",
      "6\t7\t8\t9\t10\t\n",
      "11\t12\t13\t14\t15\t\n",
      "16\t17\t18\t19\t20\t\n",
      "21\t22\t23\t24\t25\t\n",
      "26\t27\t28\t29\t30\t\n",
      "31\t32\t33\t34\t35\t\n",
      "36\t37\t38\t39\t40\t\n",
      "41\t42\t43\t44\t45\t\n"
     ]
    }
   ],
   "source": [
    "totaal = 45\n",
    "aantal_per_rij = 5\n",
    "\n",
    "lottonummer = 1\n",
    "\n",
    "for item in range(1, totaal+1):\n",
    "    print(lottonummer, end='\\t')\n",
    "    if lottonummer %5 == 0:\n",
    "        print ()\n",
    "    lottonummer += 1"
   ]
  },
  {
   "cell_type": "code",
   "execution_count": 103,
   "metadata": {},
   "outputs": [
    {
     "name": "stdout",
     "output_type": "stream",
     "text": [
      "wagen type 1 is merk opel\n",
      "wagen type 2 is merk volkwagen\n",
      "wagen type 3 is merk bmw\n",
      "wagen type 4 is merk audi\n",
      "wagen type 5 is merk kia\n",
      "u rijdt met het merk opel\n"
     ]
    }
   ],
   "source": [
    "wagen ={}\n",
    "wagen[1]= 'opel'\n",
    "wagen[2]= 'volkwagen'\n",
    "wagen[3]= 'bmw'\n",
    "wagen[4]= 'audi'\n",
    "wagen[5]= 'kia'\n",
    "\n",
    "for nummer, merk in wagen.items():\n",
    "    print(f\"wagen type {nummer} is merk {merk}\")\n",
    "jouw_merk = int(input('welk type is jou auto? '))\n",
    "print(f\"u rijdt met het merk {wagen[jouw_merk]}\")"
   ]
  },
  {
   "cell_type": "code",
   "execution_count": 109,
   "metadata": {},
   "outputs": [
    {
     "ename": "SyntaxError",
     "evalue": "unterminated string literal (detected at line 1) (1749606981.py, line 1)",
     "output_type": "error",
     "traceback": [
      "\u001b[1;36m  Cell \u001b[1;32mIn[109], line 1\u001b[1;36m\u001b[0m\n\u001b[1;33m    info_wagen ={('wagen')('kleur')('model')('bouwjaar')('rijs)}\u001b[0m\n\u001b[1;37m                                                         ^\u001b[0m\n\u001b[1;31mSyntaxError\u001b[0m\u001b[1;31m:\u001b[0m unterminated string literal (detected at line 1)\n"
     ]
    }
   ],
   "source": [
    "wagens={}\n",
    "wagen_nummer = 0\n",
    "wagen_eigenschapen = ['merk', 'model', 'bouwjaar', 'kleur', 'prijs']\n",
    "nog_eentje = True\n",
    "\n",
    "while nog_eentje:\n",
    "    print(\"\\ngeef een neiuwe wagen in:\\n\")\n",
    "    deze_wagen ={}\n",
    "    for eigenshap in wagen_eigenschapen:\n",
    "        deze_wagen[eigenshap] = input(f\"geef{eigenshap} van deze wagen: \")\n",
    "    \n",
    "    wagens[wagen_nummer]=deze_wagen\n",
    "    nog_eentje = true if verdergaan == 'j' else false "
   ]
  },
  {
   "cell_type": "code",
   "execution_count": 114,
   "metadata": {},
   "outputs": [
    {
     "data": {
      "text/plain": [
       "{'opel': {'kleur': 'blauw', 'brandstof': 'benzine'},\n",
       " 'toyota': {'kleur': 'groen', 'brandstof': 'benzine'}}"
      ]
     },
     "execution_count": 114,
     "metadata": {},
     "output_type": "execute_result"
    }
   ],
   "source": [
    "wagen={}\n",
    "\n",
    "wagen['opel'] ={}\n",
    "mijn_wagen ={}\n",
    "mijn_wagen['kleur'] = 'blauw'\n",
    "mijn_wagen['brandstof']= 'benzine'\n",
    "wagen['toyota'] = {}\n",
    "oiviers_wagen ={}\n",
    "oiviers_wagen['kleur']='groen'\n",
    "oiviers_wagen['brandstof']= 'benzine'\n",
    "\n",
    "wagen['opel']= mijn_wagen\n",
    "wagen['toyota'] = oiviers_wagen\n",
    "wagen"
   ]
  }
 ],
 "metadata": {
  "kernelspec": {
   "display_name": "Python 3",
   "language": "python",
   "name": "python3"
  },
  "language_info": {
   "codemirror_mode": {
    "name": "ipython",
    "version": 3
   },
   "file_extension": ".py",
   "mimetype": "text/x-python",
   "name": "python",
   "nbconvert_exporter": "python",
   "pygments_lexer": "ipython3",
   "version": "3.11.5"
  }
 },
 "nbformat": 4,
 "nbformat_minor": 2
}
