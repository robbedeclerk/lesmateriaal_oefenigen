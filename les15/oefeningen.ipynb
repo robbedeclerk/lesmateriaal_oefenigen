{
 "cells": [
  {
   "cell_type": "code",
   "execution_count": null,
   "metadata": {},
   "outputs": [],
   "source": [
    "class oefening1:\n",
    "    voorwerpen=[]\n",
    "    def __init__(self,voorwerp):\n",
    "        self.voorwerp=voorwerp\n",
    "        oefening1.voorwerpen.append(self)\n",
    "    @classmethod\n",
    "    def container(cls):\n",
    "        print(f'running from container class')"
   ]
  },
  {
   "cell_type": "code",
   "execution_count": null,
   "metadata": {},
   "outputs": [],
   "source": [
    "class employee:\n",
    "    instance=[]\n",
    "    def __init__(self,naam):\n",
    "        self.naam=naam\n",
    "        employee.instance.append(self)\n",
    "    @classmethod\n",
    "    def count(cls):\n",
    "        x=len(cls.instance)\n",
    "        print(f'there are {x} employee in your list')\n",
    "\n"
   ]
  },
  {
   "cell_type": "code",
   "execution_count": null,
   "metadata": {},
   "outputs": [],
   "source": [
    "from datetime import datetime\n",
    "class time:\n",
    "    def __init__(self,time):\n",
    "        self.time=time\n",
    "    @staticmethod\n",
    "    def get_time():\n",
    "        x=datetime.now()\n",
    "        print(x.strftime(\"%H:%M:%S\"))"
   ]
  },
  {
   "cell_type": "code",
   "execution_count": null,
   "metadata": {},
   "outputs": [],
   "source": []
  },
  {
   "cell_type": "code",
   "execution_count": null,
   "metadata": {},
   "outputs": [],
   "source": []
  }
 ],
 "metadata": {
  "language_info": {
   "name": "python"
  }
 },
 "nbformat": 4,
 "nbformat_minor": 2
}
