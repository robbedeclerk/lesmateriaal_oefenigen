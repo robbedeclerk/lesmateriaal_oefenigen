{
 "cells": [
  {
   "cell_type": "code",
   "execution_count": 17,
   "metadata": {},
   "outputs": [],
   "source": [
    "import random\n",
    "\n",
    "x = int(input())\n",
    "getalen_lijst=[]\n",
    "e = 0\n",
    "\n",
    "def berekenen(x) :\n",
    "    x = (input(\"geef een getal\"))\n",
    "    if x == int():\n",
    "        getalen_lijst.append(x)\n",
    "        return berekenen(x)\n",
    "    elif x ==str():\n",
    "        e = e+1\n",
    "        if e < 5:\n",
    "            return berekenen(x)\n",
    "        else:\n",
    "            print (getalen_lijst)\n",
    "\n",
    "def main(m)\n"
   ]
  },
  {
   "cell_type": "code",
   "execution_count": null,
   "metadata": {},
   "outputs": [],
   "source": [
    "a = 0\n",
    "\n",
    "def recursiefe_functie(a):\n",
    "    if a < 5:\n",
    "        a = a+1\n",
    "        return recursiefe_functie(a)\n",
    "    else:\n",
    "        print (a)"
   ]
  },
  {
   "cell_type": "code",
   "execution_count": 39,
   "metadata": {},
   "outputs": [
    {
     "name": "stdout",
     "output_type": "stream",
     "text": [
      "pogingen zijn op\n"
     ]
    }
   ],
   "source": [
    "import random\n",
    "\n",
    "getal = random.randint(1,20)\n",
    "e = 0\n",
    "def gokgetal(raaden):\n",
    "    gok_input = input(\"geef een getal\")\n",
    "    if gok_input == getal:\n",
    "        print(\"goed geraden\")\n",
    "    elif gok_input != getal:\n",
    "            global e\n",
    "            e = e+1\n",
    "            if e < 5 :\n",
    "                return gokgetal(raaden)\n",
    "            else:\n",
    "                print(\"pogingen zijn op\")\n",
    "\n",
    "\n",
    "gokgetal(getal)"
   ]
  },
  {
   "cell_type": "code",
   "execution_count": 94,
   "metadata": {},
   "outputs": [
    {
     "data": {
      "text/plain": [
       "<function TextIOWrapper.close()>"
      ]
     },
     "execution_count": 94,
     "metadata": {},
     "output_type": "execute_result"
    }
   ],
   "source": [
    "mijn_bestand = open(\"mijnbestand.txt\", \"w\")\n",
    "mijn_bestand.write(\"Dit is een simpel zinnetje!\\n\")\n",
    "mijn_bestand.write(\"----------------------------\\n\")\n",
    "mijn_bestand.close\n"
   ]
  },
  {
   "cell_type": "code",
   "execution_count": 9,
   "metadata": {},
   "outputs": [
    {
     "name": "stdout",
     "output_type": "stream",
     "text": [
      "oke. \n",
      "hier zijn de namen ['robbe']\n"
     ]
    }
   ],
   "source": [
    "namen = []\n",
    "\n",
    "\n",
    "def ingaven(ingeven_namen):\n",
    "    \n",
    "    vraag = input('wil je een naam ingeven y/n?\\t')\n",
    "    if vraag == \"y\":\n",
    "        naam = input(\"geef mij een naam\\t\")\n",
    "        namen.append(naam)\n",
    "        return ingaven(ingeven_namen)\n",
    "    elif vraag == \"n\" :\n",
    "        print(\"oke. \")\n",
    "        print(f'hier zijn de namen {namen}')\n",
    "    else:\n",
    "        print(\"gelieven y/n integeven!\")\n",
    "        return ingaven(ingeven_namen)\n",
    "\n",
    "\n",
    "ingaven(namen)"
   ]
  },
  {
   "cell_type": "code",
   "execution_count": null,
   "metadata": {},
   "outputs": [],
   "source": [
    "f = open('testles7.json')\n",
    "data = json.load(f)\n",
    "\n",
    "dictionary = {\"name\": }"
   ]
  },
  {
   "cell_type": "code",
   "execution_count": 62,
   "metadata": {},
   "outputs": [
    {
     "name": "stdout",
     "output_type": "stream",
     "text": [
      "oke. \n",
      "hier zijn de leeftijden ['robbe', 'koen']\n",
      "gelieven y/n integeven!\n",
      "oke. \n",
      "hier zijn de leeftijden ['robbe', 'koen', '25', '50']\n"
     ]
    }
   ],
   "source": [
    "import json\n",
    "\n",
    "\n",
    "\n",
    "\n",
    "\n",
    "namen = []\n",
    "leeftijd = []\n",
    "\n",
    "\n",
    "\n",
    "def ingaven(ingeven_namen):\n",
    "    \n",
    "    vraag = input('wil je een naam ingeven y/n?\\t')\n",
    "    if vraag == \"y\":\n",
    "        naam = input(\"geef mij een naam\\t\")\n",
    "        namen.append(naam)\n",
    "        return ingaven(ingeven_namen)\n",
    "    elif vraag == \"n\" :\n",
    "        print(\"oke. \")\n",
    "        print(f'hier zijn de namen {namen}')\n",
    "    else:\n",
    "        print(\"gelieven y/n integeven!\")\n",
    "        return ingaven(ingeven_namen)\n",
    "    \n",
    "    \n",
    "\n",
    "\n",
    "\n",
    "\n",
    "def ingaven(ingeven_age):\n",
    "    \n",
    "    vraag = input('wil je een naam ingeven y/n?\\t')\n",
    "    if vraag == \"y\":\n",
    "        age = input(\"geef mij een leeftijd\\t\")\n",
    "        leeftijd.append(age)\n",
    "        return ingaven(ingeven_age)\n",
    "    elif vraag == \"n\" :\n",
    "        print(\"oke. \")\n",
    "        print(f'hier zijn de leeftijden {leeftijd}')\n",
    "    else:\n",
    "        print(\"gelieven y/n integeven!\")\n",
    "        return ingaven(ingeven_age)\n",
    "\n",
    "\n",
    "ingaven(namen)\n",
    "ingaven(leeftijd)\n",
    "\n",
    "for id, naam in enumerate(namen):\n",
    "    info = {}\n",
    "    info['name'] = namen\n",
    "    info['age'] = leeftijd[id]\n",
    "    info_alles[id]= info\n",
    "    print(id,namen,leeftijd[id])\n"
   ]
  },
  {
   "cell_type": "code",
   "execution_count": 60,
   "metadata": {},
   "outputs": [
    {
     "name": "stdout",
     "output_type": "stream",
     "text": [
      "oke. \n",
      "hier zijn de namen ['robbe', 'koen'] en leeftijden ['25', '50']\n",
      "0 ['robbe', 'koen'] 25\n",
      "1 ['robbe', 'koen'] 50\n"
     ]
    }
   ],
   "source": [
    "import json\n",
    "\n",
    "\n",
    "\n",
    "\n",
    "namen = []\n",
    "leeftijd = []\n",
    "\n",
    "\n",
    "\n",
    "\n",
    "def ingaven(ingeven_namen):\n",
    "    \n",
    "    vraag = input('wil je een naam ingeven y/n?\\t')\n",
    "    if vraag == \"y\":\n",
    "        naam = input(\"geef mij een naam\\t\")\n",
    "        namen.append(naam)\n",
    "        age = input(\"geef mij een leeftijd\\t\")\n",
    "        leeftijd.append(age)\n",
    "        return ingaven(ingeven_namen)\n",
    "    elif vraag == \"n\" :\n",
    "        print(\"oke. \")\n",
    "        print(f'hier zijn de namen {namen} en leeftijden {leeftijd}')\n",
    "    else:\n",
    "        print(\"gelieven y/n integeven!\")\n",
    "        return ingaven(ingeven_namen)\n",
    "    \n",
    "    \n",
    "info_alles ={}\n",
    "\n",
    "ingaven(namen)\n",
    "for id, naam in enumerate(namen):\n",
    "    info = {}\n",
    "    info['name'] = namen\n",
    "    info['age'] = leeftijd[id]\n",
    "    info_alles[id]= info\n",
    "    print(id,namen,leeftijd[id])"
   ]
  },
  {
   "cell_type": "code",
   "execution_count": null,
   "metadata": {},
   "outputs": [],
   "source": []
  }
 ],
 "metadata": {
  "kernelspec": {
   "display_name": "Python 3",
   "language": "python",
   "name": "python3"
  },
  "language_info": {
   "codemirror_mode": {
    "name": "ipython",
    "version": 3
   },
   "file_extension": ".py",
   "mimetype": "text/x-python",
   "name": "python",
   "nbconvert_exporter": "python",
   "pygments_lexer": "ipython3",
   "version": "3.11.5"
  }
 },
 "nbformat": 4,
 "nbformat_minor": 2
}
