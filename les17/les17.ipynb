{
 "cells": [
  {
   "cell_type": "code",
   "execution_count": 8,
   "metadata": {},
   "outputs": [
    {
     "name": "stdout",
     "output_type": "stream",
     "text": [
      "['Bi', 'Bo', 'Bu', 'bi', 'ba', 'be']\n"
     ]
    }
   ],
   "source": [
    "import re\n",
    "\n",
    "slist= re.findall(r\"b[aeiou]\",\"Bill Gates en Uwe Boll dronken Red Bull bij het voetballen in Campbell.\",re.I)\n",
    "\n",
    "print(slist)"
   ]
  },
  {
   "cell_type": "code",
   "execution_count": 2,
   "metadata": {},
   "outputs": [
    {
     "name": "stdout",
     "output_type": "stream",
     "text": [
      "Baaaaa is found at 13.\n",
      "Baba is found at 30.\n"
     ]
    }
   ],
   "source": [
    "import re \n",
    "\n",
    "mlist = re.finditer(r'(ba)+a*', 'Schaap zegt \"Baaaaah\" tot Ali Baba.', re.I)\n",
    "for m in mlist:\n",
    "    print(f\"{m.group()} is found at {m.start()}.\")\n"
   ]
  },
  {
   "cell_type": "code",
   "execution_count": 52,
   "metadata": {},
   "outputs": [
    {
     "name": "stdout",
     "output_type": "stream",
     "text": [
      "De is found at 0.\n",
      "maker is found at 3.\n",
      "is is found at 9.\n",
      "de is found at 12.\n",
      "bedenker is found at 15.\n",
      "van is found at 24.\n",
      "de is found at 28.\n",
      "iphone is found at 31.\n"
     ]
    }
   ],
   "source": [
    "# Oefening 1: Neem aan dat een woord alleen kan bestaan uit letters van het alfabet\n",
    "# (hoofd- of kleine letters). Schrijf code die een reguliere expressie gebruikt om alle woorden\n",
    "# van een tekst in een list te zetten.\n",
    "import re \n",
    "tekst='De maker is de bedenker van de iphone.'\n",
    "\n",
    "mlist = re.finditer(r'\\b[a-z]+[a-z]', tekst,re.I)\n",
    "\n",
    "for m in mlist:\n",
    "    print(f\"{m.group()} is found at {m.start()}.\")"
   ]
  },
  {
   "cell_type": "code",
   "execution_count": 62,
   "metadata": {},
   "outputs": [
    {
     "name": "stdout",
     "output_type": "stream",
     "text": [
      "['De', 'de', 'de']\n"
     ]
    }
   ],
   "source": [
    "# Oefening 2: Gebruik een reguliere expressie en de findall () methode om een list te\n",
    "# maken van alle instanties van het woord “de” in een zin. Druk het aantal instanties af.\n",
    "# Je code mag geen onderscheid maken tussen hoofd- en kleine letters. Zorg ervoor dat je\n",
    "# de combinatie “de” niet telt als het een onderdeel is van een ander woord (bijvoorbeeld\n",
    "# “onderdeel,” “delicaat”, of “woede”)\n",
    "\n",
    "tekst='De maker is de bedenker van de iphone en Microsoft is daarvoor woede.'\n",
    "\n",
    "slist = re.findall(r'\\bde', tekst, re.I)\n",
    "\n",
    "print(slist)"
   ]
  },
  {
   "cell_type": "code",
   "execution_count": 134,
   "metadata": {},
   "outputs": [
    {
     "name": "stdout",
     "output_type": "stream",
     "text": [
      "['Ginger', 'Vanrosem']\n"
     ]
    }
   ],
   "source": [
    "# Oefening 3: De volledige naam van een persoon bestaat uit twee woorden, die naast\n",
    "# elkaar staan, en die alleen letters van het alfabet bevatten, die allemaal kleine letters zijn\n",
    "# behalve de eerste, die een hoofdletter moet zijn. Tussen de woorden mogen alleen spaties\n",
    "# staan. De woorden beginnen en eindigen bij een woordscheider. Bijvoorbeeld, volgens\n",
    "# deze specificatie is Kardinaal Richelieu een naam, maar Charles d’Artagnan niet, noch\n",
    "# Gilbert duPrez, Joe DiMaggio, of Unit X1138. Maak een reguliere expressie die een list\n",
    "# maakt van alle twee-woorden combinaties in een zin die (waarschijnlijk) de namen van\n",
    "# personen zijn onder deze aanname.\n",
    "\n",
    "# Oefening 4: Als vervolg op de vorige opgave, neem nu aan dat de naam van een\n",
    "# persoon mag bestaan uit twee of meer woorden, met alle andere criteria als hierboven\n",
    "# gegeven. Schrijf een reguliere expressie die alle namen uit een tekst haalt.\n",
    "\n",
    "tekst='ik ben Ginger Vanrosem en ik ben ros'\n",
    "\n",
    "slist = re.findall(r'\\b[A-Z]+[a-z]+', tekst)\n",
    "\n",
    "print(slist)\n"
   ]
  },
  {
   "cell_type": "code",
   "execution_count": 130,
   "metadata": {},
   "outputs": [
    {
     "data": {
      "text/plain": [
       "'\\\\b[A-Z][a-z$]*'"
      ]
     },
     "execution_count": 130,
     "metadata": {},
     "output_type": "execute_result"
    }
   ],
   "source": [
    "r'\\b[A-Z][a-z$]*'"
   ]
  },
  {
   "cell_type": "code",
   "execution_count": 147,
   "metadata": {},
   "outputs": [
    {
     "name": "stdout",
     "output_type": "stream",
     "text": [
      "o komt twee keer voor in de string\n"
     ]
    }
   ],
   "source": [
    "import re \n",
    "\n",
    "\n",
    "m = re.search(r\"(\\S).*\\1\", \"Monty Python`s Flying Circus\")\n",
    "if m:\n",
    "    print(f\"{m.group(1)} komt twee keer voor in de string\")\n",
    "else:\n",
    "    print('geen match gevonden')"
   ]
  },
  {
   "cell_type": "code",
   "execution_count": 151,
   "metadata": {},
   "outputs": [
    {
     "name": "stdout",
     "output_type": "stream",
     "text": [
      "geen match gevonden\n"
     ]
    }
   ],
   "source": [
    "import re \n",
    "\n",
    "\n",
    "m = re.search(r\"(\\S).*\\1{2,}\", \"Monty Python`s Flying Circus\")\n",
    "if m:\n",
    "    print(f\"{m.group(1)} komt twee keer voor in de string\")\n",
    "else:\n",
    "    print('geen match gevonden')\n"
   ]
  },
  {
   "cell_type": "code",
   "execution_count": 157,
   "metadata": {},
   "outputs": [
    {
     "name": "stdout",
     "output_type": "stream",
     "text": [
      "geen match gevonden\n"
     ]
    }
   ],
   "source": [
    "import re \n",
    "\n",
    "\n",
    "m = re.search(r\"(\\S)(.*\\1)(2,)\", \"Monty Python`s Flying Circus\")\n",
    "if m:\n",
    "    print(f\"{m.group(1)} komt twee keer voor in de string\")\n",
    "else:\n",
    "    print('geen match gevonden')"
   ]
  },
  {
   "cell_type": "code",
   "execution_count": null,
   "metadata": {},
   "outputs": [],
   "source": []
  }
 ],
 "metadata": {
  "kernelspec": {
   "display_name": "Python 3",
   "language": "python",
   "name": "python3"
  },
  "language_info": {
   "codemirror_mode": {
    "name": "ipython",
    "version": 3
   },
   "file_extension": ".py",
   "mimetype": "text/x-python",
   "name": "python",
   "nbconvert_exporter": "python",
   "pygments_lexer": "ipython3",
   "version": "3.11.5"
  }
 },
 "nbformat": 4,
 "nbformat_minor": 2
}
