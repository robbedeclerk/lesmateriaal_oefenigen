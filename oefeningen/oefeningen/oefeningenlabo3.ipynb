{
 "cells": [
  {
   "cell_type": "code",
   "execution_count": 2,
   "metadata": {},
   "outputs": [
    {
     "name": "stdout",
     "output_type": "stream",
     "text": [
      "de derde zijde is 41\n",
      "\n"
     ]
    }
   ],
   "source": [
    "b= int(input(\"hoelenag is zijde 1\\n\"))\n",
    "a= int(input(\"hoelang is zijde 2\\n\"))\n",
    "c= a**2+b**2\n",
    "print(f'de derde zijde is {c}\\n')"
   ]
  },
  {
   "cell_type": "code",
   "execution_count": 5,
   "metadata": {},
   "outputs": [
    {
     "name": "stdout",
     "output_type": "stream",
     "text": [
      "jou verzindingskosten zijn 21 euro\n"
     ]
    }
   ],
   "source": [
    "a = int(input('hoeveel producten heeft u gekocht?\\n'))\n",
    "if  a == 1:\n",
    "    print('jou verzendingskosten zijn 8.5euro')\n",
    "elif a >=1:\n",
    "    b = a*3\n",
    "    print(f'jou verzindingskosten zijn {b} euro')\n",
    "elif a == 0:\n",
    "    print('je hebt niks gekochtt')"
   ]
  },
  {
   "cell_type": "code",
   "execution_count": 7,
   "metadata": {},
   "outputs": [
    {
     "data": {
      "text/plain": [
       "4"
      ]
     },
     "execution_count": 7,
     "metadata": {},
     "output_type": "execute_result"
    }
   ],
   "source": [
    "def mediaan(a,b,c):\n",
    "    return a+b+c-min(a,b,c)-max(a,b,c)\n",
    "\n",
    "def main():\n",
    "    a=int(input('geef een getal'))\n",
    "    b=int(input('geef een getal'))\n",
    "    c=int(input('geef een getal'))\n",
    "    return mediaan(a,b,c)\n",
    "\n",
    "main()"
   ]
  },
  {
   "cell_type": "code",
   "execution_count": 18,
   "metadata": {},
   "outputs": [
    {
     "ename": "SyntaxError",
     "evalue": "invalid syntax (217774513.py, line 4)",
     "output_type": "error",
     "traceback": [
      "\u001b[1;36m  Cell \u001b[1;32mIn[18], line 4\u001b[1;36m\u001b[0m\n\u001b[1;33m    print(s.upper:0,1()\u001b[0m\n\u001b[1;37m                 ^\u001b[0m\n\u001b[1;31mSyntaxError\u001b[0m\u001b[1;31m:\u001b[0m invalid syntax\n"
     ]
    }
   ],
   "source": [
    "s= 'ik ben een machishe ponie'\n",
    "\n",
    "print (s.upper())\n",
    "print(s.upper:0,1()"
   ]
  },
  {
   "cell_type": "code",
   "execution_count": 48,
   "metadata": {},
   "outputs": [
    {
     "name": "stdout",
     "output_type": "stream",
     "text": [
      "2\n",
      "2\n",
      "4\n",
      "16\n",
      "256\n",
      "65536\n",
      "4294967296\n"
     ]
    }
   ],
   "source": [
    "a = int(input('geef een getal'))\n",
    "while a <=100000:\n",
    "    if a == 1:\n",
    "        a=(a+1)*a\n",
    "        print (a)\n",
    "    else:\n",
    "        a = a*a\n",
    "    print (a)\n"
   ]
  }
 ],
 "metadata": {
  "kernelspec": {
   "display_name": "Python 3",
   "language": "python",
   "name": "python3"
  },
  "language_info": {
   "codemirror_mode": {
    "name": "ipython",
    "version": 3
   },
   "file_extension": ".py",
   "mimetype": "text/x-python",
   "name": "python",
   "nbconvert_exporter": "python",
   "pygments_lexer": "ipython3",
   "version": "3.11.5"
  }
 },
 "nbformat": 4,
 "nbformat_minor": 2
}
