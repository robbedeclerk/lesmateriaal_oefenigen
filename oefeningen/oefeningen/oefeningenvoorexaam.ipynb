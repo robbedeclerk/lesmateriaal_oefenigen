{
 "cells": [
  {
   "cell_type": "code",
   "execution_count": 21,
   "metadata": {},
   "outputs": [
    {
     "name": "stdout",
     "output_type": "stream",
     "text": [
      "[1, 2, 3, 4, 5]\n",
      "3\n",
      "verkeert geraden hier is nog een kans\n",
      "\n",
      "verkeert geraden hier is nog een kans\n",
      "\n",
      "verkeert geraden hier is nog een kans\n",
      "\n"
     ]
    }
   ],
   "source": [
    "import random\n",
    "raadgetallen = [1,2,3,4,5]\n",
    "print (raadgetallen)\n",
    "a=0\n",
    "b= random.randint(1,5)\n",
    "print (b)\n",
    "\n",
    "while a <3:\n",
    "    ingave= int(input('geef een getal in van de booveste lijst\\n'))\n",
    "    if ingave == b:\n",
    "        a = a+3\n",
    "        print (f'je hebt goed geraden het getal was {b}\\n')\n",
    "    elif ingave != b:\n",
    "        a = a+1\n",
    "        print('verkeert geraden maar je hebt 3 kansen\\n')\n"
   ]
  },
  {
   "cell_type": "code",
   "execution_count": 29,
   "metadata": {},
   "outputs": [
    {
     "name": "stdout",
     "output_type": "stream",
     "text": [
      "5 dit is een priemgetal\n"
     ]
    }
   ],
   "source": [
    "getal = int(input('geef me een getal\\n'))\n",
    "\n",
    "\n",
    "if getal > 1:\n",
    "    for i in range(2,getal):\n",
    "        if (getal % i) == 0:\n",
    "            print (getal, 'dit is geen priem getal')\n",
    "            print(i, \"keer\", getal // i, \"is\", getal)\n",
    "            break\n",
    "        else:\n",
    "            print(getal, 'dit is een priemgetal')\n",
    "            break\n",
    "else:\n",
    "    print('is geen priemgetal')"
   ]
  },
  {
   "cell_type": "code",
   "execution_count": 37,
   "metadata": {},
   "outputs": [
    {
     "name": "stdout",
     "output_type": "stream",
     "text": [
      "je hebt 59.0 euro korting\n"
     ]
    }
   ],
   "source": [
    "\n",
    "def berekening(a,b):\n",
    "    x=(a+b)/10\n",
    "    print(f'je hebt {x} euro korting')\n",
    "\n",
    "\n",
    "berekening(500,90)"
   ]
  },
  {
   "cell_type": "code",
   "execution_count": 43,
   "metadata": {},
   "outputs": [
    {
     "name": "stdout",
     "output_type": "stream",
     "text": [
      "Uw BMI bedraagt: 19.70796380901191.\n"
     ]
    }
   ],
   "source": [
    "gewicht_kg = int(input(\"Geef uw gewicht in kilogram: \"))\n",
    "lengte_m = float(input(\"Geef uw lengte in meter: \"))\n",
    "bmi = gewicht_kg / (lengte_m * lengte_m)\n",
    "\n",
    "print(\"Uw BMI bedraagt: \" + str(bmi) + \".\")"
   ]
  },
  {
   "cell_type": "code",
   "execution_count": null,
   "metadata": {},
   "outputs": [],
   "source": [
    "def fen(n):\n",
    "    if n <= 1:\n",
    "        return n\n",
    "    else:\n",
    "        return(fen(n-1) + fen(n-2))\n",
    "aantal = 100\n",
    "\n",
    "if aantal <= 0:\n",
    "    print(\"Geef een positief integer in.\")\n",
    "else:\n",
    "    print(\"Fibonacci rij:\")\n",
    "    for i in range(aantal):\n",
    "        print(fen(i))"
   ]
  },
  {
   "cell_type": "code",
   "execution_count": 56,
   "metadata": {},
   "outputs": [
    {
     "name": "stdout",
     "output_type": "stream",
     "text": [
      "oke ik stop\n",
      "\n",
      "['robbe']\n"
     ]
    }
   ],
   "source": [
    "lijst=[]\n",
    "\n",
    "\n",
    "def ingeven():\n",
    "    a = input('wil je een woord ingeven y/n\\n')\n",
    "    if a =='y':\n",
    "        b= input ('geef een woord\\n')\n",
    "        lijst.append(b)\n",
    "        return ingeven()\n",
    "    if a == 'n':\n",
    "        print('oke ik stop\\n')\n",
    "\n",
    "def sorteren():\n",
    "    lijst.sort()\n",
    "    for item in lijst:\n",
    "        if a == b:\n",
    "            lijst.pop()\n",
    "\n",
    "ingeven()\n",
    "sorteren()\n",
    "print(lijst)"
   ]
  },
  {
   "cell_type": "code",
   "execution_count": 77,
   "metadata": {},
   "outputs": [
    {
     "name": "stdout",
     "output_type": "stream",
     "text": [
      "3.69\n",
      "369\n"
     ]
    }
   ],
   "source": [
    "getalen=[]\n",
    "\n",
    "\n",
    "def rollen():\n",
    "    x=0\n",
    "    while x <= 100:\n",
    "        a = random.randint(1,6)\n",
    "        getalen.append(a)\n",
    "        x=x+1\n",
    "\n",
    "def gemidelde():\n",
    "    p = sum(getalen)/100\n",
    "    print(p)\n",
    "\n",
    "\n",
    "\n",
    "rollen()\n",
    "gemidelde()\n",
    "print (sum(getalen))"
   ]
  },
  {
   "cell_type": "code",
   "execution_count": null,
   "metadata": {},
   "outputs": [],
   "source": []
  }
 ],
 "metadata": {
  "kernelspec": {
   "display_name": "Python 3",
   "language": "python",
   "name": "python3"
  },
  "language_info": {
   "codemirror_mode": {
    "name": "ipython",
    "version": 3
   },
   "file_extension": ".py",
   "mimetype": "text/x-python",
   "name": "python",
   "nbconvert_exporter": "python",
   "pygments_lexer": "ipython3",
   "version": "3.11.5"
  }
 },
 "nbformat": 4,
 "nbformat_minor": 2
}
