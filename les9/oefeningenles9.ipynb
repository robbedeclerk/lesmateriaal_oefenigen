{
 "cells": [
  {
   "cell_type": "code",
   "execution_count": 19,
   "metadata": {},
   "outputs": [
    {
     "name": "stdout",
     "output_type": "stream",
     "text": [
      "[5, 8, 6]\n",
      "3\n",
      "oke ik stop\n",
      "\n",
      "[5, 8, 6]\n",
      "3\n"
     ]
    }
   ],
   "source": [
    "lijst=[]\n",
    "\n",
    "def argumenten(ingaven):\n",
    "    x = input('wil je een getal ingeven y/n?\\n')\n",
    "    while x == \"y\":\n",
    "        i = int(input('geef mij een getal\\n'))\n",
    "        lijst.append(i)\n",
    "        x = input('wil je een getal ingeven y/n?\\n')\n",
    "        if x == 'y':\n",
    "            continue\n",
    "        else:\n",
    "            berekinging()\n",
    "    if x == 'n':\n",
    "        print('oke ik stop\\n')\n",
    "        berekinging()\n",
    "    else:\n",
    "        print ('gelive y of n intevoeren\\n')\n",
    "        return argumenten(ingaven)\n",
    "\n",
    "def berekinging():\n",
    "    print(lijst)\n",
    "    avg = max(lijst) - min(lijst)\n",
    "    print(avg)\n",
    "\n",
    "\n",
    "argumenten(lijst)\n"
   ]
  },
  {
   "cell_type": "code",
   "execution_count": 60,
   "metadata": {},
   "outputs": [
    {
     "name": "stdout",
     "output_type": "stream",
     "text": [
      "kjhgliurzhkjhgliurzh\n"
     ]
    }
   ],
   "source": [
    "p = input('geef mij een string\\n')\n",
    "\n",
    "def separator():\n",
    "    g = int(input(\"hoeveel keer moet in je string printen\\n\"))\n",
    "    h = g*p\n",
    "    print (h)\n",
    "\n",
    "\n",
    "separator()"
   ]
  },
  {
   "cell_type": "code",
   "execution_count": 61,
   "metadata": {},
   "outputs": [
    {
     "data": {
      "text/plain": [
       "[(1, 'a'), (2, 'b'), (3, 'c')]"
      ]
     },
     "execution_count": 61,
     "metadata": {},
     "output_type": "execute_result"
    }
   ],
   "source": [
    "l1 = 1,2,3\n",
    "l2= \"a\",\"b\",\"c\"\n",
    "\n",
    "list(zip(l1,l2))"
   ]
  },
  {
   "cell_type": "code",
   "execution_count": 36,
   "metadata": {},
   "outputs": [
    {
     "name": "stdout",
     "output_type": "stream",
     "text": [
      "256\n"
     ]
    }
   ],
   "source": [
    "def square(x):\n",
    "    return lambda a: a**x\n",
    "\n",
    "getal = square(4)\n",
    "print(getal(4))\n",
    "\n",
    "\n"
   ]
  },
  {
   "cell_type": "code",
   "execution_count": 37,
   "metadata": {},
   "outputs": [
    {
     "data": {
      "text/plain": [
       "13"
      ]
     },
     "execution_count": 37,
     "metadata": {},
     "output_type": "execute_result"
    }
   ],
   "source": [
    "f= lambda a,b: a+b\n",
    "\n",
    "f(5,8)"
   ]
  },
  {
   "cell_type": "code",
   "execution_count": 58,
   "metadata": {},
   "outputs": [
    {
     "name": "stdout",
     "output_type": "stream",
     "text": [
      "[2, 4, 6, 8]\n"
     ]
    }
   ],
   "source": [
    "getal = [1,2,3,4,5,6,7,8,9]\n",
    "\n",
    "\n",
    "\n",
    "result= filter(lambda x: x % 2 == 0,getal)\n",
    "print (list(result))"
   ]
  },
  {
   "cell_type": "code",
   "execution_count": 68,
   "metadata": {},
   "outputs": [
    {
     "name": "stdout",
     "output_type": "stream",
     "text": [
      "['apple', 'Banana', 'cherry', 'Date']\n"
     ]
    }
   ],
   "source": [
    "lijst = [\"apple\", \"Banana\", \"cherry\", \"Date\"]\n",
    "filterlijst= sorted(lijst, key=lambda s: s.lower())\n",
    "print(filterlijst)"
   ]
  },
  {
   "cell_type": "code",
   "execution_count": 70,
   "metadata": {},
   "outputs": [
    {
     "name": "stdout",
     "output_type": "stream",
     "text": [
      "['apple', 'Banana', 'cherry', 'Date']\n"
     ]
    }
   ],
   "source": [
    "lijst = [\"Banana\", \"cherry\",\"apple\", \"Date\"]\n",
    "filterlijst= sorted(lijst, key=lambda s: s.lower())\n",
    "print(filterlijst)"
   ]
  },
  {
   "cell_type": "code",
   "execution_count": 72,
   "metadata": {},
   "outputs": [
    {
     "name": "stdout",
     "output_type": "stream",
     "text": [
      "10\n"
     ]
    }
   ],
   "source": [
    "from functools import reduce\n",
    "\n",
    "lijst = [1,2,3,4]\n",
    "\n",
    "new_list= reduce(lambda a,b: a+b,lijst)\n",
    "\n",
    "print (new_list)"
   ]
  },
  {
   "cell_type": "code",
   "execution_count": 97,
   "metadata": {},
   "outputs": [
    {
     "name": "stdout",
     "output_type": "stream",
     "text": [
      "even\n"
     ]
    }
   ],
   "source": [
    "#q = int[input[\"geef een getal\"]]\n",
    "\n",
    "#for uitkomts in q:\n",
    "#    if lambda q: q %2 == 0:\n",
    "#        print('evengetal')#    elif lambda q: q %2 == 1:\n",
    "#        print('onevengetal')\n",
    "\n",
    "\n",
    "\n",
    "\n",
    "even_oneven = lambda x: \"even\" if x %2 == 0 else \"odd\"\n",
    "print (even_oneven(8))"
   ]
  },
  {
   "cell_type": "code",
   "execution_count": 96,
   "metadata": {},
   "outputs": [
    {
     "name": "stdout",
     "output_type": "stream",
     "text": [
      "even\n"
     ]
    }
   ],
   "source": []
  }
 ],
 "metadata": {
  "kernelspec": {
   "display_name": "Python 3",
   "language": "python",
   "name": "python3"
  },
  "language_info": {
   "codemirror_mode": {
    "name": "ipython",
    "version": 3
   },
   "file_extension": ".py",
   "mimetype": "text/x-python",
   "name": "python",
   "nbconvert_exporter": "python",
   "pygments_lexer": "ipython3",
   "version": "3.11.5"
  }
 },
 "nbformat": 4,
 "nbformat_minor": 2
}
