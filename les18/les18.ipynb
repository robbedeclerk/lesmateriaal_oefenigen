{
 "cells": [
  {
   "cell_type": "code",
   "execution_count": 1,
   "metadata": {},
   "outputs": [
    {
     "name": "stdout",
     "output_type": "stream",
     "text": [
      "Het is slechts je naam die mijn vijand is;\n",
      "\n",
      "Jij bent wie je bent, jezelf, niet een Montague.\n",
      "\n",
      "Wat is een Montague? Is het een hand, een voet,\n",
      "\n",
      "een arm, een gezicht, of enig ander deel\n",
      "\n",
      "behorend aan een man? O, had je maar een andere naam!\n",
      "\n",
      "Wat betekent een naam? Dat wat wij een roos noemen\n",
      "\n",
      "zou met een andere naam net zo zoet geuren;\n",
      "\n",
      "Zo zou ook Romeo, had hij een andere naam,\n",
      "\n",
      "even volmaakt zijn als hij nu is.\n",
      "\n",
      "Romeo, doe weg die naam,\n",
      "\n",
      "Hij is geen deel van jou, verruil hem\n",
      "\n",
      "voor alles wat ik ben.\n",
      "\n"
     ]
    }
   ],
   "source": [
    "fp = open(\"pc_rose.txt\")\n",
    "while True:\n",
    "    buffer = fp.readline()\n",
    "    if buffer == \"\":\n",
    "        break\n",
    "    print (buffer)\n",
    "fp.close()"
   ]
  },
  {
   "cell_type": "code",
   "execution_count": 12,
   "metadata": {},
   "outputs": [
    {
     "name": "stdout",
     "output_type": "stream",
     "text": [
      "0\n",
      "0\n",
      "0\n",
      "0\n",
      "0\n"
     ]
    }
   ],
   "source": [
    "fp = open(\"pc_jabberwocky.txt\")\n",
    "teller = 0\n",
    "while teller < 5 :\n",
    "    buffer = fp.readline()\n",
    "    if buffer == \"\":\n",
    "        break\n",
    "    count = 0\n",
    "    item = \"wauwelwok\"\n",
    "    for item in buffer:\n",
    "        count +=1\n",
    "    print (count)\n",
    "    teller +=1\n",
    "fp.close()"
   ]
  },
  {
   "cell_type": "code",
   "execution_count": 3,
   "metadata": {},
   "outputs": [],
   "source": [
    "fb= open('pc_writetest.tmp','w')\n",
    "\n",
    "while True:\n",
    "    x=input('geef en zin')\n",
    "    if x == '':\n",
    "        break\n",
    "    fb.write(x +'\\n')\n",
    "fb.close()\n"
   ]
  },
  {
   "cell_type": "code",
   "execution_count": 4,
   "metadata": {},
   "outputs": [],
   "source": [
    "fb= open('pc_writetest_2.tmp','w')\n",
    "tekst= []\n",
    "while True:\n",
    "    x=input('geef en zin')\n",
    "    if x == '':\n",
    "        break\n",
    "    tekst.append(x+'\\n')\n",
    "    fb.writelines(tekst)\n",
    "\n",
    "fb.close()\n"
   ]
  },
  {
   "cell_type": "code",
   "execution_count": 8,
   "metadata": {},
   "outputs": [],
   "source": [
    "fp = open(\"pc_rose.txt\",'r')\n",
    "fb= open('pc_writetest.tmp','w')\n",
    "\n",
    "\n",
    "while True:\n",
    "    buffer = fp.readline()\n",
    "    if buffer == \"\":\n",
    "        break\n",
    "    fb.write(buffer + '\\n')\n",
    "\n",
    "fp.close()\n",
    "fb.close()"
   ]
  },
  {
   "cell_type": "code",
   "execution_count": 7,
   "metadata": {},
   "outputs": [],
   "source": [
    "#zorg ervoor dat de string reverse geprint word\n",
    "\n",
    "fp = open(\"pc_rose.txt\",'r')\n",
    "fb= open('pc_writetest.tmp','w')\n",
    "\n",
    "\n",
    "while True:\n",
    "    buffer = fp.readline()[::-1]\n",
    "    if buffer == \"\":\n",
    "        break\n",
    "    fb.write(buffer + '\\n')\n",
    "\n",
    "fp.close()\n",
    "fb.close()"
   ]
  },
  {
   "cell_type": "code",
   "execution_count": 10,
   "metadata": {},
   "outputs": [
    {
     "name": "stdout",
     "output_type": "stream",
     "text": [
      "\n",
      "\n"
     ]
    }
   ],
   "source": [
    "def read():\n",
    "    fb= open('pc_writetest.tmp','r')\n",
    "    while True:\n",
    "        buffer = fb.readline()\n",
    "        if buffer == \"\":\n",
    "            break\n",
    "    print (buffer)\n",
    "    fb.close()\n",
    "\n",
    "read()\n",
    "x=input('wil je tekst toevoegen y/n\\n')\n",
    "\n",
    "if x == 'y':\n",
    "    fb= open('pc_writetest.tmp','a')\n",
    "    while True:\n",
    "        tekst = input('wat wil je toevoegen\\n')\n",
    "        if tekst == '':\n",
    "            break\n",
    "    fb.write(x +'\\n')\n",
    "elif x == 'n':\n",
    "    pass\n",
    "else:\n",
    "    print('thats not what i asked\\n')\n",
    "\n",
    "read()"
   ]
  },
  {
   "cell_type": "code",
   "execution_count": 11,
   "metadata": {},
   "outputs": [
    {
     "name": "stdout",
     "output_type": "stream",
     "text": [
      "uitvoer gereed\n"
     ]
    }
   ],
   "source": [
    "from pickle import dump\n",
    "\n",
    "kaaswinkel = [(\"roquefort\",12,15.23),(\"white stilton\",25,19.02)]\n",
    "\n",
    "fb = open(\"pc_cheese.pck\",\"wb\")\n",
    "dump(kaaswinkel,fb)\n",
    "fb.close()\n",
    "print(\"uitvoer gereed\")"
   ]
  },
  {
   "cell_type": "code",
   "execution_count": 13,
   "metadata": {},
   "outputs": [
    {
     "name": "stdout",
     "output_type": "stream",
     "text": [
      "hello world!\n",
      "1041011081081113211911111410810033\n",
      "1041011081081113211911111410810033"
     ]
    }
   ],
   "source": [
    "hw1 = \"hello world!\"\n",
    "hw2= b\"hello world!\"\n",
    "\n",
    "for c in hw1:\n",
    "    print(c,end=\"\")\n",
    "print()\n",
    "\n",
    "for c in hw1:\n",
    "    print(ord(c),end=\"\")\n",
    "print()\n",
    "\n",
    "for c in hw2:\n",
    "    print(c,end=\"\")"
   ]
  },
  {
   "cell_type": "code",
   "execution_count": null,
   "metadata": {},
   "outputs": [],
   "source": [
    "bs = bytes( [72 ,101 ,108 ,108 ,111 ,44 ,32 ,119 ,111 ,114 ,108 ,100 ,33] )\n",
    "print ( bs )\n",
    "bch = bytes ( [72] )\n",
    "print ( bch )\n",
    "fout = bytes ( 72 )\n",
    "print ( fout )\n"
   ]
  },
  {
   "cell_type": "code",
   "execution_count": null,
   "metadata": {},
   "outputs": [],
   "source": [
    "hw1 = b\"Hello , world !\"\n",
    "hw2 = hw1 . decode ( \"utf -8\" )\n",
    "print ( hw2 )\n",
    "hw3 = hw2 . encode ( \"utf -8\" )\n",
    "print ( hw3 )\n"
   ]
  },
  {
   "cell_type": "code",
   "execution_count": 1,
   "metadata": {},
   "outputs": [
    {
     "name": "stdout",
     "output_type": "stream",
     "text": [
      "73 bytes geschreven\n",
      "And now for something completely different ...\\ x0Ôèå Óðáîéóè Éîñõéóéôéïî\n"
     ]
    }
   ],
   "source": [
    "from os.path import getsize\n",
    "NAAM = \"pc_binarytest.tmp\"\n",
    "fp = open(NAAM, \"wb\")\n",
    "fp.write(b\"And now for something completely different ...\\ x0\\xd4\\xe8\\xe5\\xa0\\xd3\\xf0\\xe1\\xee\\xe9\\xf3\\xe8\\xa0\\xc9\\xee\\xf1\\xf5\\xe9\\xf3\\xe9\\xf4\\xe9\\xef\\xee\" )\n",
    "\n",
    "b''\n",
    "fp.close()\n",
    "print(getsize(NAAM),\"bytes geschreven\")\n",
    "\n",
    "\n",
    "# open the file\n",
    "NAAM = \"pc_binarytest.tmp\"\n",
    "fp = open(NAAM, encoding=\"latin -1\")\n",
    "while True:\n",
    "    buffer = fp.readline()\n",
    "    if buffer == \"\":\n",
    "        break\n",
    "    print(buffer)\n",
    "fp.close()"
   ]
  },
  {
   "cell_type": "code",
   "execution_count": 4,
   "metadata": {},
   "outputs": [
    {
     "name": "stdout",
     "output_type": "stream",
     "text": [
      "b'\\xd4\\xe8\\xe5\\xa0\\xd3\\xf0\\xe1\\xee\\xe9\\xf3\\xe8\\xa0\\xc9\\xee\\xf1\\xf5\\xe9\\xf3\\xe9\\xf4\\xe9\\xef\\xee'\n",
      "de geheime boodschap is: The Spanish Inquisition\n"
     ]
    }
   ],
   "source": [
    "fp = open(\"pc_binarytest.tmp\", \"rb\")\n",
    "fp.seek(50,0)\n",
    "buffer = fp.read(23)\n",
    "fp.close\n",
    "\n",
    "print (buffer)\n",
    "s=\"\"\n",
    "for c in buffer:\n",
    "    s += chr(c -128)\n",
    "\n",
    "print(\"de geheime boodschap is:\",s)\n"
   ]
  }
 ],
 "metadata": {
  "kernelspec": {
   "display_name": "Python 3",
   "language": "python",
   "name": "python3"
  },
  "language_info": {
   "codemirror_mode": {
    "name": "ipython",
    "version": 3
   },
   "file_extension": ".py",
   "mimetype": "text/x-python",
   "name": "python",
   "nbconvert_exporter": "python",
   "pygments_lexer": "ipython3",
   "version": "3.11.5"
  }
 },
 "nbformat": 4,
 "nbformat_minor": 2
}
