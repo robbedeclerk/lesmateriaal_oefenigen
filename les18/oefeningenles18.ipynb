{
 "cells": [
  {
   "cell_type": "code",
   "execution_count": null,
   "metadata": {},
   "outputs": [],
   "source": [
    "# Opgave 1 Schrijf een programma dat het bestand “pc_woodchuck.txt” leest, en het\n",
    "# splitst in individuele woorden (waarbij alles wat geen letter is, beschouwd wordt als een\n",
    "# woord-scheider). Daarna bouwt het (zonder onderscheid te maken tussen hoofd- en kleine\n",
    "# letters) een dictionary dat voor ieder woord bijhoudt hoe vaak het voorkomt in de tekst.\n",
    "# Toon vervolgens alle woorden, met hun hoeveelheden, in alfabetische volgorde.\n",
    "\n",
    "# Opgave 2 Doe hetzelfde als de vorige opgave, maar verwerk nu de tekst regel voor\n",
    "# regel. Dit is iets dat je zou moeten doen als je een erg lange tekst onder handen hebt.\n"
   ]
  },
  {
   "cell_type": "code",
   "execution_count": 7,
   "metadata": {},
   "outputs": [
    {
     "name": "stdout",
     "output_type": "stream",
     "text": [
      "Hoeveel hout kan een houthakker hakken\n",
      " 5\n",
      "Als een houthakker hout kan hakken?\n",
      " 5\n",
      "Hij kan hakken zoveel als hij kan hakken\n",
      " 7\n",
      "En hij hakt zoveel als een houthakker kan hakken\n",
      " 8\n",
      "Als een houthakker hout kan hakken.\n",
      " 5\n"
     ]
    }
   ],
   "source": [
    "fp = open('pc_woodchuck.txt','r')\n",
    "\n",
    "while True:\n",
    "    buffer = fp.readline()\n",
    "    if buffer == \"\":\n",
    "        break\n",
    "    count= buffer.count(' ')\n",
    "    print (buffer,count)"
   ]
  },
  {
   "cell_type": "code",
   "execution_count": null,
   "metadata": {},
   "outputs": [],
   "source": [
    "import string \n",
    "\n",
    "def count_words(file_path):\n",
    "    words_count ={}\n",
    "    \n",
    "    with open(file_path,'r') as fb:\n",
    "        for line in fb:\n",
    "            word=line.split()\n",
    "            for word in word:\n",
    "                word = word.lower()\n",
    "                words_count[word]=words_count.get(word, 0) + 1\n",
    "        sorted_word_count = sorted(words_count.items())\n",
    "        \n",
    "        for words,count in sorted_word_count:\n",
    "            print(f'{words}:{count}')\n",
    "\n",
    "count_words('pc_woodchuck.txt')"
   ]
  },
  {
   "cell_type": "code",
   "execution_count": null,
   "metadata": {},
   "outputs": [],
   "source": [
    "# Opgave 3 Schrijf een programma dat de inhoud van “pc_woodchuck.txt” regel\n",
    "# voor regel inleest. Creëer een bestand “pc_woodchuck.tmp” in de huidige directory, met\n",
    "# dezelfde inhoud als “pc_woodchuck.txt,” maar waarbij alle klinkers verwijderd zijn. Toon\n",
    "# op het scherm hoeveel tekens je hebt gelezen en hoeveel tekens je hebt geschreven."
   ]
  },
  {
   "cell_type": "code",
   "execution_count": null,
   "metadata": {},
   "outputs": [],
   "source": [
    "fb = open('pc_woodchuck.txt','r')\n",
    "fp =open('pc_woodchuck.tmp','w')\n",
    "def opgave_3(file_path):\n",
    "    tekst = []\n",
    "    with open(file_path ,'r') as fb:\n",
    "        for line in fb:\n",
    "            word = line.split()\n",
    "            for word in word:\n",
    "                word = word.lower()\n",
    "                word = word.strip(\"aeiou\")\n",
    "                tekst.append(word)\n",
    "                fp.write(tekst +'\\n')\n",
    "    print ('gereed')\n",
    "\n",
    "opgave_3('pc_woodchuck.txt')"
   ]
  },
  {
   "cell_type": "code",
   "execution_count": 15,
   "metadata": {},
   "outputs": [
    {
     "name": "stdout",
     "output_type": "stream",
     "text": [
      "gereed\n"
     ]
    }
   ],
   "source": [
    "def opgave_3(file_path):\n",
    "    tekst = []\n",
    "\n",
    "    with open(file_path, 'r') as fb, open('pc_woodchuck.tmp', 'w') as fp:\n",
    "        for line in fb:\n",
    "            words = line.split()\n",
    "            for word in words:\n",
    "                word = word.lower()\n",
    "                word_without_vowels = ''.join(char for char in word if char not in \"aeiou\")\n",
    "                tekst.append(word_without_vowels)\n",
    "            fp.write(' '.join(tekst) + '\\n')\n",
    "            tekst = []  # Reset de lijst voor de volgende regel\n",
    "\n",
    "    print('gereed')\n",
    "\n",
    "opgave_3('pc_woodchuck.txt')\n"
   ]
  },
  {
   "cell_type": "code",
   "execution_count": null,
   "metadata": {},
   "outputs": [],
   "source": [
    "# Opgave 4 Schrijf een programma dat bepaalt welke woorden van minimaal drie let-\n",
    "# ters voorkomen in ieder van de drie bestanden “pc_woodchuck.txt,” “pc_jabberwocky.txt”\n",
    "# en “pc_rose.txt.” Maak geen onderscheid tussen hoofd- en kleine letters, en, zoals gewoon-\n",
    "# lijk, is ieder teken dat geen letter is een woord-scheider. Als je programma correct is, vind\n",
    "# je twee woorden van drie letters die aan de eis voldoen."
   ]
  },
  {
   "cell_type": "code",
   "execution_count": 17,
   "metadata": {},
   "outputs": [
    {
     "name": "stdout",
     "output_type": "stream",
     "text": [
      "hij\n",
      "een\n"
     ]
    }
   ],
   "source": [
    "def lees_bestand(bestandsnaam):\n",
    "    try:\n",
    "        with open(bestandsnaam, 'r') as bestand:\n",
    "            inhoud = bestand.read().lower()\n",
    "        return inhoud\n",
    "    except FileNotFoundError:\n",
    "        print(f\"Fout: Bestand '{bestandsnaam}' niet gevonden.\")\n",
    "        return \"\"\n",
    "\n",
    "def vind_gemaanschapelijke_woorde(x,y,z): \n",
    "    bestand1=set(lees_bestand(x).split())\n",
    "    bestand2=set(lees_bestand(y).split())\n",
    "    bestand3=set(lees_bestand(z).split())\n",
    "    \n",
    "    gemeenschappelijke_woorden = bestand1.intersection(bestand2, bestand3)\n",
    "    return [woord for woord in gemeenschappelijke_woorden if len(woord) >= 3]\n",
    "\n",
    "def main():\n",
    "    file1= \"pc_woodchuck.txt\"\n",
    "    file2= \"pc_jabberwocky.txt\"\n",
    "    file3= \"pc_rose.txt\"\n",
    "    \n",
    "    geemenschapelijke_woorden_vinden = vind_gemaanschapelijke_woorde(file1,file2,file3)\n",
    "    \n",
    "    if geemenschapelijke_woorden_vinden:\n",
    "        for word in geemenschapelijke_woorden_vinden:\n",
    "            print(word)\n",
    "\n",
    "main()"
   ]
  }
 ],
 "metadata": {
  "kernelspec": {
   "display_name": "Python 3",
   "language": "python",
   "name": "python3"
  },
  "language_info": {
   "codemirror_mode": {
    "name": "ipython",
    "version": 3
   },
   "file_extension": ".py",
   "mimetype": "text/x-python",
   "name": "python",
   "nbconvert_exporter": "python",
   "pygments_lexer": "ipython3",
   "version": "3.11.5"
  }
 },
 "nbformat": 4,
 "nbformat_minor": 2
}
